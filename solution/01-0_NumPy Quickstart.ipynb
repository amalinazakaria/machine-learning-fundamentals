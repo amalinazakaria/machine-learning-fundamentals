{
  "nbformat": 4,
  "nbformat_minor": 0,
  "metadata": {
    "kernelspec": {
      "display_name": "Python 3",
      "language": "python",
      "name": "python3"
    },
    "language_info": {
      "codemirror_mode": {
        "name": "ipython",
        "version": 3
      },
      "file_extension": ".py",
      "mimetype": "text/x-python",
      "name": "python",
      "nbconvert_exporter": "python",
      "pygments_lexer": "ipython3",
      "version": "3.8.3"
    },
    "colab": {
      "name": "01-0_NumPy Quickstart.ipynb",
      "provenance": []
    }
  },
  "cells": [
    {
      "cell_type": "code",
      "metadata": {
        "deletable": false,
        "editable": false,
        "id": "PZryThCsfQPC"
      },
      "source": [
        " # Copyright (c) 2019 Skymind AI Bhd.\n",
        "# Copyright (c) 2020 CertifAI Sdn. Bhd.\n",
        "#\n",
        "# This program and the accompanying materials are made available under the\n",
        "# terms of the Apache License, Version 2.0 which is available at\n",
        "# https://www.apache.org/licenses/LICENSE-2.0.\n",
        "# Unless required by applicable law or agreed to in writing, software\n",
        "# distributed under the License is distributed on an \"AS IS\" BASIS, WITHOUT\n",
        "# WARRANTIES OR CONDITIONS OF ANY KIND, either express or implied. See the\n",
        "# License for the specific language governing permissions and limitations\n",
        "# under the License.\n",
        "#\n",
        "# SPDX-License-Identifier: Apache-2.0"
      ],
      "execution_count": null,
      "outputs": []
    },
    {
      "cell_type": "markdown",
      "metadata": {
        "id": "zWj7co87fQPJ"
      },
      "source": [
        "# NumPy Quickstart "
      ]
    },
    {
      "cell_type": "markdown",
      "metadata": {
        "id": "rCxQJ5DsfQPL"
      },
      "source": [
        "We will use the **NumPy** module to create and apply mathematical operations on matrices (additional, substraction)."
      ]
    },
    {
      "cell_type": "code",
      "metadata": {
        "id": "OozEgJV-fQPM"
      },
      "source": [
        "import numpy as np"
      ],
      "execution_count": 1,
      "outputs": []
    },
    {
      "cell_type": "markdown",
      "metadata": {
        "id": "PF9XWm-SfQPN"
      },
      "source": [
        "Create a simple array of integers"
      ]
    },
    {
      "cell_type": "code",
      "metadata": {
        "id": "R8yp7QvSfQPO"
      },
      "source": [
        "array_1d = np.arange(0, 10)"
      ],
      "execution_count": 2,
      "outputs": []
    },
    {
      "cell_type": "markdown",
      "metadata": {
        "id": "_0YHyLodfQPO"
      },
      "source": [
        "The function `arange` creates an array from `range(0,10)`. The `arange()` function is similar to that of Python's `range()`."
      ]
    },
    {
      "cell_type": "code",
      "metadata": {
        "id": "qBx7eQVEfQPP",
        "outputId": "98d02e50-d835-4cf2-f958-bedae01db301",
        "colab": {
          "base_uri": "https://localhost:8080/"
        }
      },
      "source": [
        "array_1d \n",
        "#row vector"
      ],
      "execution_count": 5,
      "outputs": [
        {
          "output_type": "execute_result",
          "data": {
            "text/plain": [
              "array([0, 1, 2, 3, 4, 5, 6, 7, 8, 9])"
            ]
          },
          "metadata": {},
          "execution_count": 5
        }
      ]
    },
    {
      "cell_type": "markdown",
      "metadata": {
        "id": "hBJHVyyHmONd"
      },
      "source": [
        "Other way to print array_1d"
      ]
    },
    {
      "cell_type": "code",
      "metadata": {
        "id": "N-cu0g3XmMMT",
        "outputId": "cdd5d814-b0aa-4d92-ce16-5473152fe40b",
        "colab": {
          "base_uri": "https://localhost:8080/"
        }
      },
      "source": [
        "print(array_1d)"
      ],
      "execution_count": 8,
      "outputs": [
        {
          "output_type": "stream",
          "name": "stdout",
          "text": [
            "[0 1 2 3 4 5 6 7 8 9]\n"
          ]
        }
      ]
    },
    {
      "cell_type": "markdown",
      "metadata": {
        "id": "ZWb1sKOPfQPR"
      },
      "source": [
        "Create a $2\\times2$ matrix. (2-dimensional array)"
      ]
    },
    {
      "cell_type": "code",
      "metadata": {
        "id": "0FIvUowufQPS"
      },
      "source": [
        "array_2d = np.array([[1, 2], [3, 4]])"
      ],
      "execution_count": 6,
      "outputs": []
    },
    {
      "cell_type": "code",
      "metadata": {
        "id": "NMzw0eQ2fQPT",
        "outputId": "ebf91213-dcb6-4669-e7b4-fd1054f37129",
        "colab": {
          "base_uri": "https://localhost:8080/"
        }
      },
      "source": [
        "array_2d"
      ],
      "execution_count": 7,
      "outputs": [
        {
          "output_type": "execute_result",
          "data": {
            "text/plain": [
              "array([[1, 2],\n",
              "       [3, 4]])"
            ]
          },
          "metadata": {},
          "execution_count": 7
        }
      ]
    },
    {
      "cell_type": "markdown",
      "metadata": {
        "id": "1wyocRvHfQPT"
      },
      "source": [
        "Create a $3\\times 3$ matrix."
      ]
    },
    {
      "cell_type": "code",
      "metadata": {
        "id": "WWfd1k_jfQPU"
      },
      "source": [
        "array_3d = np.array([[1, 2, 3], [4, 5, 6], [7, 8, 9]])"
      ],
      "execution_count": 13,
      "outputs": []
    },
    {
      "cell_type": "code",
      "metadata": {
        "id": "X3HQQm7hfQPU",
        "outputId": "71c23d3d-9972-4bfe-abe7-947b4b5e737e",
        "colab": {
          "base_uri": "https://localhost:8080/"
        }
      },
      "source": [
        "array_3d"
      ],
      "execution_count": 14,
      "outputs": [
        {
          "output_type": "execute_result",
          "data": {
            "text/plain": [
              "array([[1, 2, 3],\n",
              "       [4, 5, 6],\n",
              "       [7, 8, 9]])"
            ]
          },
          "metadata": {},
          "execution_count": 14
        }
      ]
    },
    {
      "cell_type": "markdown",
      "metadata": {
        "id": "2CpVq0PTfQPU"
      },
      "source": [
        "Perform addition of two $3\\times 3$ matrices. Must same shape."
      ]
    },
    {
      "cell_type": "code",
      "metadata": {
        "id": "4JMcFqa1fQPV"
      },
      "source": [
        "matrixA = np.array([[1, 1, 1], [1, 1, 1], [1, 1, 1]])\n",
        "matrixB = np.array([[1, 1, 1], [1, 1, 1], [1, 1, 1]])"
      ],
      "execution_count": 11,
      "outputs": []
    },
    {
      "cell_type": "code",
      "metadata": {
        "id": "7N-JBkgbfQPV",
        "outputId": "c2563186-d083-453c-d9bf-871f00c9a8f5",
        "colab": {
          "base_uri": "https://localhost:8080/"
        }
      },
      "source": [
        "print(np.add(matrixA,matrixB))"
      ],
      "execution_count": 12,
      "outputs": [
        {
          "output_type": "stream",
          "name": "stdout",
          "text": [
            "[[2 2 2]\n",
            " [2 2 2]\n",
            " [2 2 2]]\n"
          ]
        }
      ]
    },
    {
      "cell_type": "markdown",
      "metadata": {
        "id": "prk7rmYSfQPW"
      },
      "source": [
        "Perform subtraction of two $3\\times 3$ matrices."
      ]
    },
    {
      "cell_type": "code",
      "metadata": {
        "id": "v-jhKEVzfQPX"
      },
      "source": [
        "matrixA = np.array([[2, 2, 2], [2, 2, 2], [2, 2, 2]])\n",
        "matrixB = np.array([[1, 1, 1], [1, 1, 1], [1, 1, 1]])"
      ],
      "execution_count": null,
      "outputs": []
    },
    {
      "cell_type": "code",
      "metadata": {
        "id": "7eq1ATFBfQPX",
        "outputId": "991f3d2c-67e4-47ed-ebf6-376cc56ac9db"
      },
      "source": [
        "print(np.subtract(matrixA, matrixB))"
      ],
      "execution_count": null,
      "outputs": [
        {
          "name": "stdout",
          "output_type": "stream",
          "text": [
            "[[1 1 1]\n",
            " [1 1 1]\n",
            " [1 1 1]]\n"
          ]
        }
      ]
    },
    {
      "cell_type": "markdown",
      "metadata": {
        "id": "ICGog-avfQPY"
      },
      "source": [
        "Perform a Dot Product between 2 matrices.\n",
        "\n",
        "Remember the rule that the matrix product of a matrix $A$ of shape $m \\times n$ with a matrix $B$ of shape $n \\times o$ has shape $m \\times o$. "
      ]
    },
    {
      "cell_type": "code",
      "metadata": {
        "id": "DrvjmEkPfQPa",
        "outputId": "99af2f95-d95f-4552-968b-cc81537285e5",
        "colab": {
          "base_uri": "https://localhost:8080/"
        }
      },
      "source": [
        "print(np.matmul(matrixA, matrixB))"
      ],
      "execution_count": 18,
      "outputs": [
        {
          "output_type": "stream",
          "name": "stdout",
          "text": [
            "[[3 3 3]\n",
            " [3 3 3]\n",
            " [3 3 3]]\n"
          ]
        }
      ]
    },
    {
      "cell_type": "markdown",
      "metadata": {
        "id": "hdqIvKT1fQPa"
      },
      "source": [
        "The dot product of a $3\\times 3$ matrix with a $3\\times 2$ matric is a $3\\times 2$ matrix."
      ]
    },
    {
      "cell_type": "markdown",
      "metadata": {
        "id": "G5p5XzWvfQPa"
      },
      "source": [
        "Generate a $3\\times 3$ matrix with all zeros."
      ]
    },
    {
      "cell_type": "code",
      "metadata": {
        "scrolled": true,
        "id": "1BFAsPIzfQPa",
        "outputId": "e67a7000-8072-40a0-e8f4-7473d134a0e3"
      },
      "source": [
        "zeros = np.zeros((3, 3))\n",
        "zeros"
      ],
      "execution_count": null,
      "outputs": [
        {
          "data": {
            "text/plain": [
              "array([[0., 0., 0.],\n",
              "       [0., 0., 0.],\n",
              "       [0., 0., 0.]])"
            ]
          },
          "execution_count": 16,
          "metadata": {},
          "output_type": "execute_result"
        }
      ]
    },
    {
      "cell_type": "markdown",
      "metadata": {
        "id": "O6IgT10VfQPb"
      },
      "source": [
        "Generate a $3\\times 3$ matrix with all ones."
      ]
    },
    {
      "cell_type": "code",
      "metadata": {
        "scrolled": true,
        "id": "UksN3W0nfQPb",
        "outputId": "ceb41b4a-b53a-45b6-b0b7-894dd45bdc07"
      },
      "source": [
        "ones = np.ones((3, 3))\n",
        "ones"
      ],
      "execution_count": null,
      "outputs": [
        {
          "data": {
            "text/plain": [
              "array([[1., 1., 1.],\n",
              "       [1., 1., 1.],\n",
              "       [1., 1., 1.]])"
            ]
          },
          "execution_count": 17,
          "metadata": {},
          "output_type": "execute_result"
        }
      ]
    },
    {
      "cell_type": "markdown",
      "metadata": {
        "id": "PCmR69AWfQPb"
      },
      "source": [
        "Create a 3D tensor."
      ]
    },
    {
      "cell_type": "code",
      "metadata": {
        "id": "AOfL196jfQPc"
      },
      "source": [
        "tensor_3d = np.array([[[1, 1, 1, 1],\n",
        "                       [1, 1, 1, 1],\n",
        "                       [1, 1, 1, 1]],\n",
        "                      [[1, 1, 1, 1],\n",
        "                       [1, 1, 1, 1],\n",
        "                       [1, 1, 1, 1]]\n",
        "                     ])"
      ],
      "execution_count": null,
      "outputs": []
    },
    {
      "cell_type": "code",
      "metadata": {
        "scrolled": true,
        "id": "7GRhFUx_fQPc",
        "outputId": "59324ebe-a4f1-4929-83e4-78bb204dbe0b"
      },
      "source": [
        "tensor_3d"
      ],
      "execution_count": null,
      "outputs": [
        {
          "data": {
            "text/plain": [
              "array([[[1, 1, 1, 1],\n",
              "        [1, 1, 1, 1],\n",
              "        [1, 1, 1, 1]],\n",
              "\n",
              "       [[1, 1, 1, 1],\n",
              "        [1, 1, 1, 1],\n",
              "        [1, 1, 1, 1]]])"
            ]
          },
          "execution_count": 19,
          "metadata": {},
          "output_type": "execute_result"
        }
      ]
    },
    {
      "cell_type": "code",
      "metadata": {
        "id": "CxY8ZwG3fQPc",
        "outputId": "76d578d0-3f83-4692-d3e8-b91159a18386"
      },
      "source": [
        "tensor_3d.shape"
      ],
      "execution_count": null,
      "outputs": [
        {
          "data": {
            "text/plain": [
              "(2, 3, 4)"
            ]
          },
          "execution_count": 20,
          "metadata": {},
          "output_type": "execute_result"
        }
      ]
    },
    {
      "cell_type": "markdown",
      "metadata": {
        "id": "TM2k6YNpfQPc"
      },
      "source": [
        "The shape of the tensor is described as **Width * Rows * Columns**."
      ]
    },
    {
      "cell_type": "markdown",
      "metadata": {
        "id": "qTdUl8vBfQPd"
      },
      "source": [
        "Below is an example of a 4-dimension tensor, or a tensor of `rank 4`."
      ]
    },
    {
      "cell_type": "code",
      "metadata": {
        "id": "90e0Vr1dfQPd"
      },
      "source": [
        "tensor_4 = np.array([[[[1,2,3,7],\n",
        "                       [1,3,5,0],\n",
        "                       [2,3,4,4]],\n",
        "                      [[2,3,4,6],\n",
        "                       [6,3,4,8],\n",
        "                       [4,6,0,7]]],\n",
        "                     [[[1,2,6,9],\n",
        "                       [2,3,4,3],\n",
        "                       [7,4,4,3]],\n",
        "                      [[2,6,4,3],\n",
        "                       [7,3,4,2],\n",
        "                       [8,5,6,8]]]])"
      ],
      "execution_count": null,
      "outputs": []
    },
    {
      "cell_type": "markdown",
      "metadata": {
        "id": "yP4psDfQfQPd"
      },
      "source": [
        "Using the `shape` attribute, we can see the magnitude of dimensions of said tensor.<br><br>\n",
        "A $n$-dimension tensor will display a number of $n$ magnitudes. We can also use `ndim` to show the rank(dimension) of the tensor."
      ]
    },
    {
      "cell_type": "code",
      "metadata": {
        "id": "jDJ4BJSEfQPe",
        "outputId": "5ca70497-dc85-4452-b6d2-bdc1269c6a51"
      },
      "source": [
        "print(tensor_4.shape)\n",
        "print(tensor_4.ndim)"
      ],
      "execution_count": null,
      "outputs": [
        {
          "name": "stdout",
          "output_type": "stream",
          "text": [
            "(2, 2, 3, 4)\n",
            "4\n"
          ]
        }
      ]
    },
    {
      "cell_type": "markdown",
      "metadata": {
        "id": "gXwJ58q5fQPe"
      },
      "source": [
        "## Common functions to operate on NumPy arrays"
      ]
    },
    {
      "cell_type": "code",
      "metadata": {
        "id": "emDzbaVHfQPe",
        "outputId": "d834c701-1f5f-4c4c-8e83-a9e3113a6e63"
      },
      "source": [
        "array_3x3 = np.array([[1, 2, 3], [4, 5, 6], [7, 8, 9]])\n",
        "array_3x3"
      ],
      "execution_count": null,
      "outputs": [
        {
          "data": {
            "text/plain": [
              "array([[1, 2, 3],\n",
              "       [4, 5, 6],\n",
              "       [7, 8, 9]])"
            ]
          },
          "execution_count": 23,
          "metadata": {},
          "output_type": "execute_result"
        }
      ]
    },
    {
      "cell_type": "markdown",
      "metadata": {
        "id": "HcTH-ljQfQPf"
      },
      "source": [
        "Check the shape of the array `array_3x3`."
      ]
    },
    {
      "cell_type": "code",
      "metadata": {
        "id": "C3msFZHlfQPf",
        "outputId": "1df8970b-6398-4328-ea1f-0b1a193d09df"
      },
      "source": [
        "array_3x3.shape"
      ],
      "execution_count": null,
      "outputs": [
        {
          "data": {
            "text/plain": [
              "(3, 3)"
            ]
          },
          "execution_count": 24,
          "metadata": {},
          "output_type": "execute_result"
        }
      ]
    },
    {
      "cell_type": "markdown",
      "metadata": {
        "id": "Dolujr5bfQPf"
      },
      "source": [
        "Flatten `array_3x3`. Flatten will reduce any array of any dimensions into a 1-dimension array."
      ]
    },
    {
      "cell_type": "code",
      "metadata": {
        "id": "BvzjxBJIfQPf"
      },
      "source": [
        "flattened_arr = array_3x3.ravel()"
      ],
      "execution_count": null,
      "outputs": []
    },
    {
      "cell_type": "code",
      "metadata": {
        "id": "RJwttVmzfQPg",
        "outputId": "85d9153e-d6de-40a7-cf16-a70db48fa679"
      },
      "source": [
        "flattened_arr"
      ],
      "execution_count": null,
      "outputs": [
        {
          "data": {
            "text/plain": [
              "array([1, 2, 3, 4, 5, 6, 7, 8, 9])"
            ]
          },
          "execution_count": 26,
          "metadata": {},
          "output_type": "execute_result"
        }
      ]
    },
    {
      "cell_type": "code",
      "metadata": {
        "id": "R22XmY7ofQPg",
        "outputId": "80c10f69-1551-4fe5-afe1-0b7add99c3c2"
      },
      "source": [
        "flattened_arr.shape"
      ],
      "execution_count": null,
      "outputs": [
        {
          "data": {
            "text/plain": [
              "(9,)"
            ]
          },
          "execution_count": 27,
          "metadata": {},
          "output_type": "execute_result"
        }
      ]
    },
    {
      "cell_type": "markdown",
      "metadata": {
        "id": "ORWDitJRfQPg"
      },
      "source": [
        "**Use the `.copy()` method to clone the matrix instead of doing a reference.**\n"
      ]
    },
    {
      "cell_type": "code",
      "metadata": {
        "scrolled": true,
        "id": "k5UpWBjKfQPg",
        "outputId": "31bb52a5-ec64-4d6e-9837-93b33b3f891f"
      },
      "source": [
        "matrixA = np.array([[1, 2, 3], [4, 5, 6], [7, 8, 9]]) \n",
        "matrixA"
      ],
      "execution_count": null,
      "outputs": [
        {
          "data": {
            "text/plain": [
              "array([[1, 2, 3],\n",
              "       [4, 5, 6],\n",
              "       [7, 8, 9]])"
            ]
          },
          "execution_count": 28,
          "metadata": {},
          "output_type": "execute_result"
        }
      ]
    },
    {
      "cell_type": "markdown",
      "metadata": {
        "id": "cK1bzkb6fQPh"
      },
      "source": [
        "`matrixB` is a reference to `matrixA`.`matrixC` is a copy of `matrixA`."
      ]
    },
    {
      "cell_type": "code",
      "metadata": {
        "scrolled": true,
        "id": "Aa3Vj42JfQPh",
        "outputId": "bb3d2826-ae5b-41a6-ac34-1b4db068074f"
      },
      "source": [
        "matrixB = matrixA \n",
        "matrixB"
      ],
      "execution_count": null,
      "outputs": [
        {
          "data": {
            "text/plain": [
              "array([[1, 2, 3],\n",
              "       [4, 5, 6],\n",
              "       [7, 8, 9]])"
            ]
          },
          "execution_count": 29,
          "metadata": {},
          "output_type": "execute_result"
        }
      ]
    },
    {
      "cell_type": "code",
      "metadata": {
        "id": "G35eGX2PfQPh"
      },
      "source": [
        "matrixC = np.copy(matrixA)"
      ],
      "execution_count": null,
      "outputs": []
    },
    {
      "cell_type": "code",
      "metadata": {
        "id": "GaGzWwZyfQPh",
        "outputId": "5e4029a3-d4f2-4c72-a4c8-b1f20ba783ba"
      },
      "source": [
        "matrixC"
      ],
      "execution_count": null,
      "outputs": [
        {
          "data": {
            "text/plain": [
              "array([[1, 2, 3],\n",
              "       [4, 5, 6],\n",
              "       [7, 8, 9]])"
            ]
          },
          "execution_count": 31,
          "metadata": {},
          "output_type": "execute_result"
        }
      ]
    },
    {
      "cell_type": "code",
      "metadata": {
        "id": "6idDWxw1fQPh"
      },
      "source": [
        "matrixA[0] = [99, 99, 99]"
      ],
      "execution_count": null,
      "outputs": []
    },
    {
      "cell_type": "code",
      "metadata": {
        "id": "pO_9mumdfQPi",
        "outputId": "511c4951-919e-4be1-9cdd-a268d8392243"
      },
      "source": [
        "matrixA"
      ],
      "execution_count": null,
      "outputs": [
        {
          "data": {
            "text/plain": [
              "array([[99, 99, 99],\n",
              "       [ 4,  5,  6],\n",
              "       [ 7,  8,  9]])"
            ]
          },
          "execution_count": 33,
          "metadata": {},
          "output_type": "execute_result"
        }
      ]
    },
    {
      "cell_type": "code",
      "metadata": {
        "id": "qz43NbwUfQPi",
        "outputId": "3c566291-5adb-4227-8c13-ea07ff8fd07d"
      },
      "source": [
        "matrixB"
      ],
      "execution_count": null,
      "outputs": [
        {
          "data": {
            "text/plain": [
              "array([[99, 99, 99],\n",
              "       [ 4,  5,  6],\n",
              "       [ 7,  8,  9]])"
            ]
          },
          "execution_count": 34,
          "metadata": {},
          "output_type": "execute_result"
        }
      ]
    },
    {
      "cell_type": "code",
      "metadata": {
        "id": "GGdKl2uafQPi",
        "outputId": "ceb0e4e0-9219-4072-8ba1-c041317f9e53"
      },
      "source": [
        "matrixC"
      ],
      "execution_count": null,
      "outputs": [
        {
          "data": {
            "text/plain": [
              "array([[1, 2, 3],\n",
              "       [4, 5, 6],\n",
              "       [7, 8, 9]])"
            ]
          },
          "execution_count": 35,
          "metadata": {},
          "output_type": "execute_result"
        }
      ]
    },
    {
      "cell_type": "markdown",
      "metadata": {
        "id": "tTOVHYrLfQPi"
      },
      "source": [
        "Note that when we modify `matrixA`, `matrixB` changes, but not `matrixC`"
      ]
    },
    {
      "cell_type": "markdown",
      "metadata": {
        "id": "fUmIPmIQfQPj"
      },
      "source": [
        "## Array Manipulation"
      ]
    },
    {
      "cell_type": "markdown",
      "metadata": {
        "id": "-IycHnZufQPj"
      },
      "source": [
        "**Perform vertical stack for 2 matrices using `numpy.vstack`.**"
      ]
    },
    {
      "cell_type": "code",
      "metadata": {
        "scrolled": true,
        "id": "QsszpS1_fQPj",
        "outputId": "5b87e941-434e-4234-8284-284b90091952"
      },
      "source": [
        "matrixA = np.zeros((3, 3))\n",
        "matrixA"
      ],
      "execution_count": null,
      "outputs": [
        {
          "data": {
            "text/plain": [
              "array([[0., 0., 0.],\n",
              "       [0., 0., 0.],\n",
              "       [0., 0., 0.]])"
            ]
          },
          "execution_count": 36,
          "metadata": {},
          "output_type": "execute_result"
        }
      ]
    },
    {
      "cell_type": "code",
      "metadata": {
        "id": "wNbU9ZXffQPj",
        "outputId": "6cfb35c5-03c8-4389-9c41-0fafa52c7bb8"
      },
      "source": [
        "matrixB = np.ones((3, 3))\n",
        "matrixB"
      ],
      "execution_count": null,
      "outputs": [
        {
          "data": {
            "text/plain": [
              "array([[1., 1., 1.],\n",
              "       [1., 1., 1.],\n",
              "       [1., 1., 1.]])"
            ]
          },
          "execution_count": 37,
          "metadata": {},
          "output_type": "execute_result"
        }
      ]
    },
    {
      "cell_type": "code",
      "metadata": {
        "id": "hkYd82PYfQPj",
        "outputId": "d952abe2-df9a-492e-a289-984757f9d5e9"
      },
      "source": [
        "vstack_matrix = np.vstack((matrixA, matrixB))\n",
        "vstack_matrix"
      ],
      "execution_count": null,
      "outputs": [
        {
          "data": {
            "text/plain": [
              "array([[0., 0., 0.],\n",
              "       [0., 0., 0.],\n",
              "       [0., 0., 0.],\n",
              "       [1., 1., 1.],\n",
              "       [1., 1., 1.],\n",
              "       [1., 1., 1.]])"
            ]
          },
          "execution_count": 38,
          "metadata": {},
          "output_type": "execute_result"
        }
      ]
    },
    {
      "cell_type": "code",
      "metadata": {
        "id": "Ty_hyb-5fQPk",
        "outputId": "98e6a933-b50f-48b1-95be-fd9a7ee6d853"
      },
      "source": [
        "vstack_matrix.shape"
      ],
      "execution_count": null,
      "outputs": [
        {
          "data": {
            "text/plain": [
              "(6, 3)"
            ]
          },
          "execution_count": 39,
          "metadata": {},
          "output_type": "execute_result"
        }
      ]
    },
    {
      "cell_type": "markdown",
      "metadata": {
        "id": "0l1GhVeHfQPk"
      },
      "source": [
        "**Perform horizontal stack for 2 matrices using `numpy.hstack`.**"
      ]
    },
    {
      "cell_type": "code",
      "metadata": {
        "id": "btbgEI-7fQPk",
        "outputId": "526a8e11-77a4-4a91-bea2-e3ddc46fff75"
      },
      "source": [
        "hstack_matrix = np.hstack((matrixA, matrixB))\n",
        "hstack_matrix"
      ],
      "execution_count": null,
      "outputs": [
        {
          "data": {
            "text/plain": [
              "array([[0., 0., 0., 1., 1., 1.],\n",
              "       [0., 0., 0., 1., 1., 1.],\n",
              "       [0., 0., 0., 1., 1., 1.]])"
            ]
          },
          "execution_count": 40,
          "metadata": {},
          "output_type": "execute_result"
        }
      ]
    },
    {
      "cell_type": "code",
      "metadata": {
        "id": "umvEw7xdfQPl",
        "outputId": "5d2fc728-fb5f-4b80-899a-b86e105cb33b"
      },
      "source": [
        "hstack_matrix.shape"
      ],
      "execution_count": null,
      "outputs": [
        {
          "data": {
            "text/plain": [
              "(3, 6)"
            ]
          },
          "execution_count": 41,
          "metadata": {},
          "output_type": "execute_result"
        }
      ]
    },
    {
      "cell_type": "markdown",
      "metadata": {
        "id": "_GaeWp3KfQPl"
      },
      "source": [
        "**Perform depth stack for 2 matrices using `numpy.dstack`.**"
      ]
    },
    {
      "cell_type": "code",
      "metadata": {
        "id": "fC_BxY1WfQPl"
      },
      "source": [
        "matrixA = np.array([[1, 2, 3], [4, 5, 6], [7, 8, 9]])\n",
        "matrixB = np.array([[10, 20, 30], [40, 50, 60], [70, 80, 90]])"
      ],
      "execution_count": null,
      "outputs": []
    },
    {
      "cell_type": "code",
      "metadata": {
        "id": "QOButGD1fQPm",
        "outputId": "71c3ea1b-e3b6-47be-aeda-2984b594f5aa"
      },
      "source": [
        "dstack_matrix = np.dstack((matrixA, matrixB))\n",
        "dstack_matrix"
      ],
      "execution_count": null,
      "outputs": [
        {
          "data": {
            "text/plain": [
              "array([[[ 1, 10],\n",
              "        [ 2, 20],\n",
              "        [ 3, 30]],\n",
              "\n",
              "       [[ 4, 40],\n",
              "        [ 5, 50],\n",
              "        [ 6, 60]],\n",
              "\n",
              "       [[ 7, 70],\n",
              "        [ 8, 80],\n",
              "        [ 9, 90]]])"
            ]
          },
          "execution_count": 43,
          "metadata": {},
          "output_type": "execute_result"
        }
      ]
    },
    {
      "cell_type": "code",
      "metadata": {
        "scrolled": true,
        "id": "_CZh-m0pfQPm",
        "outputId": "808c1941-d180-4df9-91b2-2f427fd2b918"
      },
      "source": [
        "dstack_matrix.shape"
      ],
      "execution_count": null,
      "outputs": [
        {
          "data": {
            "text/plain": [
              "(3, 3, 2)"
            ]
          },
          "execution_count": 44,
          "metadata": {},
          "output_type": "execute_result"
        }
      ]
    },
    {
      "cell_type": "markdown",
      "metadata": {
        "id": "Q6l5bBdIfQPm"
      },
      "source": [
        "**Transpose a matrix.**"
      ]
    },
    {
      "cell_type": "code",
      "metadata": {
        "id": "KK95INMzfQPm",
        "outputId": "299c3305-bc2e-4080-acdb-cf6c647f10a3"
      },
      "source": [
        "matrixC = np.transpose(matrixA)\n",
        "matrixC"
      ],
      "execution_count": null,
      "outputs": [
        {
          "data": {
            "text/plain": [
              "array([[1, 4, 7],\n",
              "       [2, 5, 8],\n",
              "       [3, 6, 9]])"
            ]
          },
          "execution_count": 45,
          "metadata": {},
          "output_type": "execute_result"
        }
      ]
    },
    {
      "cell_type": "markdown",
      "metadata": {
        "id": "f1-8sG9cfQPn"
      },
      "source": [
        "**Reshape a matrix into the assigned row x column.**"
      ]
    },
    {
      "cell_type": "code",
      "metadata": {
        "scrolled": true,
        "id": "5QCzkxU2fQPn",
        "outputId": "90422929-f04f-4183-def0-dd1550152945"
      },
      "source": [
        "matrixC = matrixA.reshape(1, 9)\n",
        "matrixC"
      ],
      "execution_count": null,
      "outputs": [
        {
          "data": {
            "text/plain": [
              "array([[1, 2, 3, 4, 5, 6, 7, 8, 9]])"
            ]
          },
          "execution_count": 46,
          "metadata": {},
          "output_type": "execute_result"
        }
      ]
    },
    {
      "cell_type": "markdown",
      "metadata": {
        "id": "ejpW8jdYfQPn"
      },
      "source": [
        "**Split a matrix vertically at the n-th index to 2 equal-sized subarrays.**"
      ]
    },
    {
      "cell_type": "code",
      "metadata": {
        "scrolled": true,
        "id": "rQe438vwfQPn",
        "outputId": "6113bb77-9a93-431c-cd46-f9f189e53a66"
      },
      "source": [
        "matrixA = np.array([[0, 0, 0], [0, 0, 0], [1, 1, 1], [1, 1, 1]])\n",
        "matrixA"
      ],
      "execution_count": null,
      "outputs": [
        {
          "data": {
            "text/plain": [
              "array([[0, 0, 0],\n",
              "       [0, 0, 0],\n",
              "       [1, 1, 1],\n",
              "       [1, 1, 1]])"
            ]
          },
          "execution_count": 47,
          "metadata": {},
          "output_type": "execute_result"
        }
      ]
    },
    {
      "cell_type": "code",
      "metadata": {
        "id": "KoTp0ubzfQPn",
        "outputId": "08e4d383-7f19-4b34-8e03-b9e72db769c2"
      },
      "source": [
        "matrixC = np.vsplit(matrixA, 2)\n",
        "matrixC"
      ],
      "execution_count": null,
      "outputs": [
        {
          "data": {
            "text/plain": [
              "[array([[0, 0, 0],\n",
              "        [0, 0, 0]]),\n",
              " array([[1, 1, 1],\n",
              "        [1, 1, 1]])]"
            ]
          },
          "execution_count": 48,
          "metadata": {},
          "output_type": "execute_result"
        }
      ]
    },
    {
      "cell_type": "markdown",
      "metadata": {
        "id": "L4FOv_eCfQPo"
      },
      "source": [
        "**Split a matrix horizontally into 3 equal-sized subarrays.** "
      ]
    },
    {
      "cell_type": "code",
      "metadata": {
        "id": "byLQ0P2WfQPo",
        "outputId": "db3e5f41-3b3e-4b2d-b699-3e3d60c690da"
      },
      "source": [
        "matrixA = np.array([[0, 0, 0], [0, 0, 0], [1, 1, 1], [1, 1, 1]])\n",
        "matrixA"
      ],
      "execution_count": null,
      "outputs": [
        {
          "data": {
            "text/plain": [
              "array([[0, 0, 0],\n",
              "       [0, 0, 0],\n",
              "       [1, 1, 1],\n",
              "       [1, 1, 1]])"
            ]
          },
          "execution_count": 49,
          "metadata": {},
          "output_type": "execute_result"
        }
      ]
    },
    {
      "cell_type": "code",
      "metadata": {
        "id": "6dzotWMpfQPo",
        "outputId": "c3214cb4-483c-4400-9c32-cb3d2c78f7e6"
      },
      "source": [
        "matrixC = np.hsplit(matrixA, 3)\n",
        "matrixC"
      ],
      "execution_count": null,
      "outputs": [
        {
          "data": {
            "text/plain": [
              "[array([[0],\n",
              "        [0],\n",
              "        [1],\n",
              "        [1]]),\n",
              " array([[0],\n",
              "        [0],\n",
              "        [1],\n",
              "        [1]]),\n",
              " array([[0],\n",
              "        [0],\n",
              "        [1],\n",
              "        [1]])]"
            ]
          },
          "execution_count": 50,
          "metadata": {},
          "output_type": "execute_result"
        }
      ]
    },
    {
      "cell_type": "markdown",
      "metadata": {
        "id": "vtRxQcZxfQPp"
      },
      "source": [
        "## Exercise"
      ]
    },
    {
      "cell_type": "markdown",
      "metadata": {
        "id": "yM9BEzIbfQPp"
      },
      "source": [
        "Create a $5\\times 3$ matrix populated with random samples from a uniform distribution and name it **`mat_1`**.\n",
        "\n",
        "*hint: `numpy.random.rand`*"
      ]
    },
    {
      "cell_type": "code",
      "metadata": {
        "id": "RuJcf4DEfQPp",
        "outputId": "1291f171-0004-4576-fec1-346b0225d9d7"
      },
      "source": [
        "mat_1 = np.random.rand(5, 3)\n",
        "mat_1"
      ],
      "execution_count": null,
      "outputs": [
        {
          "data": {
            "text/plain": [
              "array([[0.11966087, 0.47748488, 0.15096113],\n",
              "       [0.1030203 , 0.45308454, 0.24235349],\n",
              "       [0.39663288, 0.06131643, 0.36671067],\n",
              "       [0.280654  , 0.30957119, 0.56012112],\n",
              "       [0.02133816, 0.60018283, 0.24385118]])"
            ]
          },
          "execution_count": 51,
          "metadata": {},
          "output_type": "execute_result"
        }
      ]
    },
    {
      "cell_type": "markdown",
      "metadata": {
        "id": "lyrwsTG7fQPq"
      },
      "source": [
        "Create a matrix **`mat_2`** of any size. The matrix should be eligible to perform matrix multiplication with `mat_1`."
      ]
    },
    {
      "cell_type": "code",
      "metadata": {
        "id": "uuHpM_g6fQPq",
        "outputId": "9d2edd46-97f8-40f5-9c0c-3b6e733037d7"
      },
      "source": [
        "mat_2 = np.random.rand(3, 2)\n",
        "mat_2"
      ],
      "execution_count": null,
      "outputs": [
        {
          "data": {
            "text/plain": [
              "array([[0.37008906, 0.97976583],\n",
              "       [0.52495173, 0.69590459],\n",
              "       [0.32629952, 0.66861873]])"
            ]
          },
          "execution_count": 52,
          "metadata": {},
          "output_type": "execute_result"
        }
      ]
    },
    {
      "cell_type": "markdown",
      "metadata": {
        "id": "lk_pZUXufQPq"
      },
      "source": [
        "Perform matrix multiplication of `mat_1` and `mat_2` and store it in variable **`mat_3`**."
      ]
    },
    {
      "cell_type": "code",
      "metadata": {
        "id": "Un2EPYYLfQPq",
        "outputId": "7e37e243-c126-4df6-db3e-01982d5b9746"
      },
      "source": [
        "mat_3 = np.matmul(mat_1, mat_2)\n",
        "mat_3"
      ],
      "execution_count": null,
      "outputs": [
        {
          "data": {
            "text/plain": [
              "array([[0.34420024, 0.55045899],\n",
              "       [0.35505402, 0.57828146],\n",
              "       [0.29863517, 0.67646735],\n",
              "       [0.44914417, 0.86491469],\n",
              "       [0.40253256, 0.60161985]])"
            ]
          },
          "execution_count": 53,
          "metadata": {},
          "output_type": "execute_result"
        }
      ]
    },
    {
      "cell_type": "markdown",
      "metadata": {
        "id": "R-ky7FHxfQPq"
      },
      "source": [
        "Create another matrix that has the same number of columns as `mat_3` and name it **`mat_4`**"
      ]
    },
    {
      "cell_type": "code",
      "metadata": {
        "id": "7L0a4SKxfQPr",
        "outputId": "7bb5e6d5-b395-495f-dabf-f5ec1a42bc3d"
      },
      "source": [
        "mat_4 = np.random.rand(3, 2)\n",
        "mat_4"
      ],
      "execution_count": null,
      "outputs": [
        {
          "data": {
            "text/plain": [
              "array([[0.60797561, 0.71906173],\n",
              "       [0.89204501, 0.14677977],\n",
              "       [0.46133693, 0.53957826]])"
            ]
          },
          "execution_count": 54,
          "metadata": {},
          "output_type": "execute_result"
        }
      ]
    },
    {
      "cell_type": "markdown",
      "metadata": {
        "id": "Mq0gmI2NfQPr"
      },
      "source": [
        "Stack matrix `mat_3` and `mat_4` vertically. Name the result **`mat_5`**."
      ]
    },
    {
      "cell_type": "code",
      "metadata": {
        "id": "aXpqg9yefQPr",
        "outputId": "3f408d75-c711-498e-bbad-b920630c9e07"
      },
      "source": [
        "mat_5 = np.vstack((mat_3, mat_4))\n",
        "mat_5"
      ],
      "execution_count": null,
      "outputs": [
        {
          "data": {
            "text/plain": [
              "array([[0.34420024, 0.55045899],\n",
              "       [0.35505402, 0.57828146],\n",
              "       [0.29863517, 0.67646735],\n",
              "       [0.44914417, 0.86491469],\n",
              "       [0.40253256, 0.60161985],\n",
              "       [0.60797561, 0.71906173],\n",
              "       [0.89204501, 0.14677977],\n",
              "       [0.46133693, 0.53957826]])"
            ]
          },
          "execution_count": 55,
          "metadata": {},
          "output_type": "execute_result"
        }
      ]
    },
    {
      "cell_type": "markdown",
      "metadata": {
        "id": "w5sa_74XfQPr"
      },
      "source": [
        "Transpose `mat_5` and name the transposed matrix **`mat_6`**."
      ]
    },
    {
      "cell_type": "code",
      "metadata": {
        "id": "glSSGpKgfQPr",
        "outputId": "0e068f11-ddec-4d47-8869-885d08e473f7"
      },
      "source": [
        "mat_6 = np.transpose(mat_5)\n",
        "mat_6"
      ],
      "execution_count": null,
      "outputs": [
        {
          "data": {
            "text/plain": [
              "array([[0.34420024, 0.35505402, 0.29863517, 0.44914417, 0.40253256,\n",
              "        0.60797561, 0.89204501, 0.46133693],\n",
              "       [0.55045899, 0.57828146, 0.67646735, 0.86491469, 0.60161985,\n",
              "        0.71906173, 0.14677977, 0.53957826]])"
            ]
          },
          "execution_count": 56,
          "metadata": {},
          "output_type": "execute_result"
        }
      ]
    },
    {
      "cell_type": "markdown",
      "metadata": {
        "id": "8b2XZiMIfQPs"
      },
      "source": [
        "Check the shape of **`mat_6`**."
      ]
    },
    {
      "cell_type": "code",
      "metadata": {
        "id": "Pc1psTDFfQPs",
        "outputId": "5d6c93f5-5c8e-46c4-d9f9-759a36d44c1a"
      },
      "source": [
        "mat_6.shape"
      ],
      "execution_count": null,
      "outputs": [
        {
          "data": {
            "text/plain": [
              "(2, 8)"
            ]
          },
          "execution_count": 57,
          "metadata": {},
          "output_type": "execute_result"
        }
      ]
    },
    {
      "cell_type": "markdown",
      "metadata": {
        "id": "oDQZqhsnfQPs"
      },
      "source": [
        "Vertically split **`mat_6`** into two subarrays."
      ]
    },
    {
      "cell_type": "code",
      "metadata": {
        "id": "AjuZACAxfQPs",
        "outputId": "0a5247c2-ef8c-4c21-812f-1db82a27ccab"
      },
      "source": [
        "arr = np.vsplit(mat_6,2)\n",
        "arr"
      ],
      "execution_count": null,
      "outputs": [
        {
          "data": {
            "text/plain": [
              "[array([[0.34420024, 0.35505402, 0.29863517, 0.44914417, 0.40253256,\n",
              "         0.60797561, 0.89204501, 0.46133693]]),\n",
              " array([[0.55045899, 0.57828146, 0.67646735, 0.86491469, 0.60161985,\n",
              "         0.71906173, 0.14677977, 0.53957826]])]"
            ]
          },
          "execution_count": 58,
          "metadata": {},
          "output_type": "execute_result"
        }
      ]
    }
  ]
}