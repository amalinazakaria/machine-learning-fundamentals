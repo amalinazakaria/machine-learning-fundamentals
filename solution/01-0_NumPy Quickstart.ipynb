{
  "nbformat": 4,
  "nbformat_minor": 0,
  "metadata": {
    "kernelspec": {
      "display_name": "Python 3",
      "language": "python",
      "name": "python3"
    },
    "language_info": {
      "codemirror_mode": {
        "name": "ipython",
        "version": 3
      },
      "file_extension": ".py",
      "mimetype": "text/x-python",
      "name": "python",
      "nbconvert_exporter": "python",
      "pygments_lexer": "ipython3",
      "version": "3.8.3"
    },
    "colab": {
      "name": "01-0_NumPy Quickstart.ipynb",
      "provenance": []
    }
  },
  "cells": [
    {
      "cell_type": "code",
      "metadata": {
        "deletable": false,
        "editable": false,
        "id": "PZryThCsfQPC"
      },
      "source": [
        " # Copyright (c) 2019 Skymind AI Bhd.\n",
        "# Copyright (c) 2020 CertifAI Sdn. Bhd.\n",
        "#\n",
        "# This program and the accompanying materials are made available under the\n",
        "# terms of the Apache License, Version 2.0 which is available at\n",
        "# https://www.apache.org/licenses/LICENSE-2.0.\n",
        "# Unless required by applicable law or agreed to in writing, software\n",
        "# distributed under the License is distributed on an \"AS IS\" BASIS, WITHOUT\n",
        "# WARRANTIES OR CONDITIONS OF ANY KIND, either express or implied. See the\n",
        "# License for the specific language governing permissions and limitations\n",
        "# under the License.\n",
        "#\n",
        "# SPDX-License-Identifier: Apache-2.0"
      ],
      "execution_count": 2,
      "outputs": []
    },
    {
      "cell_type": "markdown",
      "metadata": {
        "id": "zWj7co87fQPJ"
      },
      "source": [
        "# NumPy Quickstart "
      ]
    },
    {
      "cell_type": "markdown",
      "metadata": {
        "id": "rCxQJ5DsfQPL"
      },
      "source": [
        "We will use the **NumPy** module to create and apply mathematical operations on matrices (additional, substraction)."
      ]
    },
    {
      "cell_type": "code",
      "metadata": {
        "id": "OozEgJV-fQPM"
      },
      "source": [
        "import numpy as np"
      ],
      "execution_count": 3,
      "outputs": []
    },
    {
      "cell_type": "markdown",
      "metadata": {
        "id": "PF9XWm-SfQPN"
      },
      "source": [
        "Create a simple array of integers"
      ]
    },
    {
      "cell_type": "code",
      "metadata": {
        "id": "R8yp7QvSfQPO"
      },
      "source": [
        "array_1d = np.arange(0, 10)"
      ],
      "execution_count": 4,
      "outputs": []
    },
    {
      "cell_type": "markdown",
      "metadata": {
        "id": "_0YHyLodfQPO"
      },
      "source": [
        "The function `arange` creates an array from `range(0,10)`. The `arange()` function is similar to that of Python's `range()`."
      ]
    },
    {
      "cell_type": "code",
      "metadata": {
        "colab": {
          "base_uri": "https://localhost:8080/"
        },
        "id": "qBx7eQVEfQPP",
        "outputId": "025324b8-ef69-4416-b095-16f8db9eb2db"
      },
      "source": [
        "array_1d \n",
        "#row vector"
      ],
      "execution_count": 5,
      "outputs": [
        {
          "output_type": "execute_result",
          "data": {
            "text/plain": [
              "array([0, 1, 2, 3, 4, 5, 6, 7, 8, 9])"
            ]
          },
          "metadata": {},
          "execution_count": 5
        }
      ]
    },
    {
      "cell_type": "markdown",
      "metadata": {
        "id": "hBJHVyyHmONd"
      },
      "source": [
        "Other way to print array_1d"
      ]
    },
    {
      "cell_type": "code",
      "metadata": {
        "colab": {
          "base_uri": "https://localhost:8080/"
        },
        "id": "N-cu0g3XmMMT",
        "outputId": "39261100-3ae8-4ddf-b492-933147691077"
      },
      "source": [
        "print(array_1d)"
      ],
      "execution_count": 6,
      "outputs": [
        {
          "output_type": "stream",
          "name": "stdout",
          "text": [
            "[0 1 2 3 4 5 6 7 8 9]\n"
          ]
        }
      ]
    },
    {
      "cell_type": "markdown",
      "metadata": {
        "id": "ZWb1sKOPfQPR"
      },
      "source": [
        "Create a $2\\times2$ matrix. (2-dimensional array)"
      ]
    },
    {
      "cell_type": "code",
      "metadata": {
        "id": "0FIvUowufQPS"
      },
      "source": [
        "array_2d = np.array([[1, 2], [3, 4]])"
      ],
      "execution_count": 7,
      "outputs": []
    },
    {
      "cell_type": "code",
      "metadata": {
        "colab": {
          "base_uri": "https://localhost:8080/"
        },
        "id": "NMzw0eQ2fQPT",
        "outputId": "58f15664-e655-4b67-f17f-63158b07e12b"
      },
      "source": [
        "array_2d"
      ],
      "execution_count": 8,
      "outputs": [
        {
          "output_type": "execute_result",
          "data": {
            "text/plain": [
              "array([[1, 2],\n",
              "       [3, 4]])"
            ]
          },
          "metadata": {},
          "execution_count": 8
        }
      ]
    },
    {
      "cell_type": "markdown",
      "metadata": {
        "id": "1wyocRvHfQPT"
      },
      "source": [
        "Create a $3\\times 3$ matrix."
      ]
    },
    {
      "cell_type": "code",
      "metadata": {
        "id": "WWfd1k_jfQPU"
      },
      "source": [
        "array_3d = np.array([[1, 2, 3], [4, 5, 6], [7, 8, 9]])"
      ],
      "execution_count": 9,
      "outputs": []
    },
    {
      "cell_type": "code",
      "metadata": {
        "colab": {
          "base_uri": "https://localhost:8080/"
        },
        "id": "X3HQQm7hfQPU",
        "outputId": "536d13d2-b63c-4054-bb7a-96f81044d11f"
      },
      "source": [
        "array_3d"
      ],
      "execution_count": 10,
      "outputs": [
        {
          "output_type": "execute_result",
          "data": {
            "text/plain": [
              "array([[1, 2, 3],\n",
              "       [4, 5, 6],\n",
              "       [7, 8, 9]])"
            ]
          },
          "metadata": {},
          "execution_count": 10
        }
      ]
    },
    {
      "cell_type": "markdown",
      "metadata": {
        "id": "2CpVq0PTfQPU"
      },
      "source": [
        "Perform addition of two $3\\times 3$ matrices. Must same shape."
      ]
    },
    {
      "cell_type": "code",
      "metadata": {
        "id": "4JMcFqa1fQPV"
      },
      "source": [
        "matrixA = np.array([[1, 1, 1], [1, 1, 1], [1, 1, 1]])\n",
        "matrixB = np.array([[1, 1, 1], [1, 1, 1], [1, 1, 1]])"
      ],
      "execution_count": 11,
      "outputs": []
    },
    {
      "cell_type": "code",
      "metadata": {
        "colab": {
          "base_uri": "https://localhost:8080/"
        },
        "id": "7N-JBkgbfQPV",
        "outputId": "87c5f24f-2d87-4be3-b08c-f930ea51776e"
      },
      "source": [
        "print(np.add(matrixA,matrixB))"
      ],
      "execution_count": 12,
      "outputs": [
        {
          "output_type": "stream",
          "name": "stdout",
          "text": [
            "[[2 2 2]\n",
            " [2 2 2]\n",
            " [2 2 2]]\n"
          ]
        }
      ]
    },
    {
      "cell_type": "markdown",
      "metadata": {
        "id": "prk7rmYSfQPW"
      },
      "source": [
        "Perform subtraction of two $3\\times 3$ matrices."
      ]
    },
    {
      "cell_type": "code",
      "metadata": {
        "id": "v-jhKEVzfQPX"
      },
      "source": [
        "matrixA = np.array([[2, 2, 2], [2, 2, 2], [2, 2, 2]])\n",
        "matrixB = np.array([[1, 1, 1], [1, 1, 1], [1, 1, 1]])"
      ],
      "execution_count": 13,
      "outputs": []
    },
    {
      "cell_type": "code",
      "metadata": {
        "colab": {
          "base_uri": "https://localhost:8080/"
        },
        "id": "7eq1ATFBfQPX",
        "outputId": "cd76d296-cd11-4cd5-a787-3a8503a89f66"
      },
      "source": [
        "print(np.subtract(matrixA, matrixB))"
      ],
      "execution_count": 14,
      "outputs": [
        {
          "output_type": "stream",
          "name": "stdout",
          "text": [
            "[[1 1 1]\n",
            " [1 1 1]\n",
            " [1 1 1]]\n"
          ]
        }
      ]
    },
    {
      "cell_type": "markdown",
      "metadata": {
        "id": "ICGog-avfQPY"
      },
      "source": [
        "Perform a Dot Product between 2 matrices.\n",
        "\n",
        "Remember the rule that the matrix product of a matrix $A$ of shape $m \\times n$ with a matrix $B$ of shape $n \\times o$ has shape $m \\times o$. "
      ]
    },
    {
      "cell_type": "code",
      "metadata": {
        "colab": {
          "base_uri": "https://localhost:8080/"
        },
        "id": "DrvjmEkPfQPa",
        "outputId": "2db7d633-2a9c-42de-836f-a1304ad002f9"
      },
      "source": [
        "print(np.matmul(matrixA, matrixB))"
      ],
      "execution_count": 15,
      "outputs": [
        {
          "output_type": "stream",
          "name": "stdout",
          "text": [
            "[[6 6 6]\n",
            " [6 6 6]\n",
            " [6 6 6]]\n"
          ]
        }
      ]
    },
    {
      "cell_type": "markdown",
      "metadata": {
        "id": "hdqIvKT1fQPa"
      },
      "source": [
        "The dot product of a $3\\times 3$ matrix with a $3\\times 2$ matric is a $3\\times 2$ matrix."
      ]
    },
    {
      "cell_type": "markdown",
      "metadata": {
        "id": "G5p5XzWvfQPa"
      },
      "source": [
        "Generate a $3\\times 3$ matrix with all zeros."
      ]
    },
    {
      "cell_type": "code",
      "metadata": {
        "scrolled": true,
        "colab": {
          "base_uri": "https://localhost:8080/"
        },
        "id": "1BFAsPIzfQPa",
        "outputId": "cd6c87db-02cd-4012-a0a9-1532d6fe8734"
      },
      "source": [
        "zeros = np.zeros((3, 3))\n",
        "zeros"
      ],
      "execution_count": 16,
      "outputs": [
        {
          "output_type": "execute_result",
          "data": {
            "text/plain": [
              "array([[0., 0., 0.],\n",
              "       [0., 0., 0.],\n",
              "       [0., 0., 0.]])"
            ]
          },
          "metadata": {},
          "execution_count": 16
        }
      ]
    },
    {
      "cell_type": "markdown",
      "metadata": {
        "id": "O6IgT10VfQPb"
      },
      "source": [
        "Generate a $3\\times 3$ matrix with all ones."
      ]
    },
    {
      "cell_type": "code",
      "metadata": {
        "scrolled": true,
        "colab": {
          "base_uri": "https://localhost:8080/"
        },
        "id": "UksN3W0nfQPb",
        "outputId": "8dbf37a2-5409-4472-a3e2-bf9d6bc1bf4b"
      },
      "source": [
        "ones = np.ones((3, 3))\n",
        "ones"
      ],
      "execution_count": 17,
      "outputs": [
        {
          "output_type": "execute_result",
          "data": {
            "text/plain": [
              "array([[1., 1., 1.],\n",
              "       [1., 1., 1.],\n",
              "       [1., 1., 1.]])"
            ]
          },
          "metadata": {},
          "execution_count": 17
        }
      ]
    },
    {
      "cell_type": "markdown",
      "metadata": {
        "id": "PCmR69AWfQPb"
      },
      "source": [
        "Create a 3D tensor."
      ]
    },
    {
      "cell_type": "code",
      "metadata": {
        "id": "AOfL196jfQPc"
      },
      "source": [
        "tensor_3d = np.array([[[1, 1, 1, 1],\n",
        "                       [1, 1, 1, 1],\n",
        "                       [1, 1, 1, 1]],\n",
        "                      [[1, 1, 1, 1],\n",
        "                       [1, 1, 1, 1],\n",
        "                       [1, 1, 1, 1]]\n",
        "                     ])"
      ],
      "execution_count": 18,
      "outputs": []
    },
    {
      "cell_type": "code",
      "metadata": {
        "scrolled": true,
        "colab": {
          "base_uri": "https://localhost:8080/"
        },
        "id": "7GRhFUx_fQPc",
        "outputId": "df94203d-8db1-4961-af86-14384f2d6dd2"
      },
      "source": [
        "tensor_3d"
      ],
      "execution_count": 19,
      "outputs": [
        {
          "output_type": "execute_result",
          "data": {
            "text/plain": [
              "array([[[1, 1, 1, 1],\n",
              "        [1, 1, 1, 1],\n",
              "        [1, 1, 1, 1]],\n",
              "\n",
              "       [[1, 1, 1, 1],\n",
              "        [1, 1, 1, 1],\n",
              "        [1, 1, 1, 1]]])"
            ]
          },
          "metadata": {},
          "execution_count": 19
        }
      ]
    },
    {
      "cell_type": "code",
      "metadata": {
        "colab": {
          "base_uri": "https://localhost:8080/"
        },
        "id": "CxY8ZwG3fQPc",
        "outputId": "8de643e8-38c0-43e8-9df2-fb05ff70b7f0"
      },
      "source": [
        "tensor_3d.shape"
      ],
      "execution_count": 20,
      "outputs": [
        {
          "output_type": "execute_result",
          "data": {
            "text/plain": [
              "(2, 3, 4)"
            ]
          },
          "metadata": {},
          "execution_count": 20
        }
      ]
    },
    {
      "cell_type": "markdown",
      "metadata": {
        "id": "TM2k6YNpfQPc"
      },
      "source": [
        "The shape of the tensor is described as **Width * Rows * Columns**."
      ]
    },
    {
      "cell_type": "markdown",
      "metadata": {
        "id": "qTdUl8vBfQPd"
      },
      "source": [
        "Below is an example of a 4-dimension tensor, or a tensor of `rank 4`."
      ]
    },
    {
      "cell_type": "code",
      "metadata": {
        "id": "90e0Vr1dfQPd"
      },
      "source": [
        "tensor_4 = np.array([[[[1,2,3,7],\n",
        "                       [1,3,5,0],\n",
        "                       [2,3,4,4]],\n",
        "                      [[2,3,4,6],\n",
        "                       [6,3,4,8],\n",
        "                       [4,6,0,7]]],\n",
        "                     [[[1,2,6,9],\n",
        "                       [2,3,4,3],\n",
        "                       [7,4,4,3]],\n",
        "                      [[2,6,4,3],\n",
        "                       [7,3,4,2],\n",
        "                       [8,5,6,8]]]])"
      ],
      "execution_count": 21,
      "outputs": []
    },
    {
      "cell_type": "markdown",
      "metadata": {
        "id": "yP4psDfQfQPd"
      },
      "source": [
        "Using the `shape` attribute, we can see the magnitude of dimensions of said tensor.<br><br>\n",
        "A $n$-dimension tensor will display a number of $n$ magnitudes. We can also use `ndim` to show the rank(dimension) of the tensor."
      ]
    },
    {
      "cell_type": "code",
      "metadata": {
        "colab": {
          "base_uri": "https://localhost:8080/"
        },
        "id": "jDJ4BJSEfQPe",
        "outputId": "e6d7d6fb-82b2-4e02-bcbe-28644e95e377"
      },
      "source": [
        "print(tensor_4.shape)\n",
        "print(tensor_4.ndim)"
      ],
      "execution_count": 22,
      "outputs": [
        {
          "output_type": "stream",
          "name": "stdout",
          "text": [
            "(2, 2, 3, 4)\n",
            "4\n"
          ]
        }
      ]
    },
    {
      "cell_type": "markdown",
      "metadata": {
        "id": "gXwJ58q5fQPe"
      },
      "source": [
        "## Common functions to operate on NumPy arrays"
      ]
    },
    {
      "cell_type": "code",
      "metadata": {
        "colab": {
          "base_uri": "https://localhost:8080/"
        },
        "id": "emDzbaVHfQPe",
        "outputId": "ad517d80-8388-44ca-bd3b-759e91989e18"
      },
      "source": [
        "array_3x3 = np.array([[1, 2, 3], [4, 5, 6], [7, 8, 9]])\n",
        "array_3x3"
      ],
      "execution_count": 23,
      "outputs": [
        {
          "output_type": "execute_result",
          "data": {
            "text/plain": [
              "array([[1, 2, 3],\n",
              "       [4, 5, 6],\n",
              "       [7, 8, 9]])"
            ]
          },
          "metadata": {},
          "execution_count": 23
        }
      ]
    },
    {
      "cell_type": "markdown",
      "metadata": {
        "id": "HcTH-ljQfQPf"
      },
      "source": [
        "Check the shape of the array `array_3x3`."
      ]
    },
    {
      "cell_type": "code",
      "metadata": {
        "colab": {
          "base_uri": "https://localhost:8080/"
        },
        "id": "C3msFZHlfQPf",
        "outputId": "d0ea4f6b-7983-457d-b3f9-8147f1ad288c"
      },
      "source": [
        "array_3x3.shape"
      ],
      "execution_count": 24,
      "outputs": [
        {
          "output_type": "execute_result",
          "data": {
            "text/plain": [
              "(3, 3)"
            ]
          },
          "metadata": {},
          "execution_count": 24
        }
      ]
    },
    {
      "cell_type": "markdown",
      "metadata": {
        "id": "Dolujr5bfQPf"
      },
      "source": [
        "Flatten `array_3x3`. Flatten will reduce any array of any dimensions into a 1-dimension array."
      ]
    },
    {
      "cell_type": "code",
      "metadata": {
        "id": "BvzjxBJIfQPf"
      },
      "source": [
        "flattened_arr = array_3x3.ravel()"
      ],
      "execution_count": 25,
      "outputs": []
    },
    {
      "cell_type": "code",
      "metadata": {
        "colab": {
          "base_uri": "https://localhost:8080/"
        },
        "id": "RJwttVmzfQPg",
        "outputId": "103a4f9b-bbcf-4e53-c986-03fd5e928f80"
      },
      "source": [
        "flattened_arr"
      ],
      "execution_count": 26,
      "outputs": [
        {
          "output_type": "execute_result",
          "data": {
            "text/plain": [
              "array([1, 2, 3, 4, 5, 6, 7, 8, 9])"
            ]
          },
          "metadata": {},
          "execution_count": 26
        }
      ]
    },
    {
      "cell_type": "code",
      "metadata": {
        "colab": {
          "base_uri": "https://localhost:8080/"
        },
        "id": "R22XmY7ofQPg",
        "outputId": "248818f6-c8eb-4d7f-efe5-7fb3f5d2c689"
      },
      "source": [
        "flattened_arr.shape"
      ],
      "execution_count": 27,
      "outputs": [
        {
          "output_type": "execute_result",
          "data": {
            "text/plain": [
              "(9,)"
            ]
          },
          "metadata": {},
          "execution_count": 27
        }
      ]
    },
    {
      "cell_type": "markdown",
      "metadata": {
        "id": "ORWDitJRfQPg"
      },
      "source": [
        "**Use the `.copy()` method to clone the matrix instead of doing a reference.**\n"
      ]
    },
    {
      "cell_type": "code",
      "metadata": {
        "scrolled": true,
        "colab": {
          "base_uri": "https://localhost:8080/"
        },
        "id": "k5UpWBjKfQPg",
        "outputId": "fbeee002-1a31-4252-9c33-c8a0b45c83d9"
      },
      "source": [
        "matrixA = np.array([[1, 2, 3], [4, 5, 6], [7, 8, 9]]) \n",
        "matrixA"
      ],
      "execution_count": 28,
      "outputs": [
        {
          "output_type": "execute_result",
          "data": {
            "text/plain": [
              "array([[1, 2, 3],\n",
              "       [4, 5, 6],\n",
              "       [7, 8, 9]])"
            ]
          },
          "metadata": {},
          "execution_count": 28
        }
      ]
    },
    {
      "cell_type": "markdown",
      "metadata": {
        "id": "cK1bzkb6fQPh"
      },
      "source": [
        "`matrixB` is a reference to `matrixA`.`matrixC` is a copy of `matrixA`."
      ]
    },
    {
      "cell_type": "code",
      "metadata": {
        "scrolled": true,
        "colab": {
          "base_uri": "https://localhost:8080/"
        },
        "id": "Aa3Vj42JfQPh",
        "outputId": "f5dcc767-ed44-467a-8a61-042d21e1fb1e"
      },
      "source": [
        "matrixB = matrixA \n",
        "matrixB"
      ],
      "execution_count": 29,
      "outputs": [
        {
          "output_type": "execute_result",
          "data": {
            "text/plain": [
              "array([[1, 2, 3],\n",
              "       [4, 5, 6],\n",
              "       [7, 8, 9]])"
            ]
          },
          "metadata": {},
          "execution_count": 29
        }
      ]
    },
    {
      "cell_type": "code",
      "metadata": {
        "id": "G35eGX2PfQPh"
      },
      "source": [
        "matrixC = np.copy(matrixA)"
      ],
      "execution_count": 30,
      "outputs": []
    },
    {
      "cell_type": "code",
      "metadata": {
        "colab": {
          "base_uri": "https://localhost:8080/"
        },
        "id": "GaGzWwZyfQPh",
        "outputId": "36fdd404-5da8-4704-abba-0a78d9239cf0"
      },
      "source": [
        "matrixC"
      ],
      "execution_count": 31,
      "outputs": [
        {
          "output_type": "execute_result",
          "data": {
            "text/plain": [
              "array([[1, 2, 3],\n",
              "       [4, 5, 6],\n",
              "       [7, 8, 9]])"
            ]
          },
          "metadata": {},
          "execution_count": 31
        }
      ]
    },
    {
      "cell_type": "markdown",
      "metadata": {
        "id": "Ukzm3KXQ6EoQ"
      },
      "source": [
        "Change the first row of matrixA"
      ]
    },
    {
      "cell_type": "code",
      "metadata": {
        "id": "6idDWxw1fQPh"
      },
      "source": [
        "matrixA[0] = [99, 99, 99]"
      ],
      "execution_count": 32,
      "outputs": []
    },
    {
      "cell_type": "code",
      "metadata": {
        "colab": {
          "base_uri": "https://localhost:8080/"
        },
        "id": "pO_9mumdfQPi",
        "outputId": "fe8bd219-bd00-41eb-9706-0e553afa01aa"
      },
      "source": [
        "matrixA"
      ],
      "execution_count": 33,
      "outputs": [
        {
          "output_type": "execute_result",
          "data": {
            "text/plain": [
              "array([[99, 99, 99],\n",
              "       [ 4,  5,  6],\n",
              "       [ 7,  8,  9]])"
            ]
          },
          "metadata": {},
          "execution_count": 33
        }
      ]
    },
    {
      "cell_type": "markdown",
      "metadata": {
        "id": "yco_fnwV6Vrd"
      },
      "source": [
        "matrixB has declare same as matrixA. So when value of matrixA changed, value of matrixB also will changed. "
      ]
    },
    {
      "cell_type": "code",
      "metadata": {
        "colab": {
          "base_uri": "https://localhost:8080/"
        },
        "id": "qz43NbwUfQPi",
        "outputId": "7257ea11-0077-4c80-d6f8-8360789b35d5"
      },
      "source": [
        "matrixB"
      ],
      "execution_count": 34,
      "outputs": [
        {
          "output_type": "execute_result",
          "data": {
            "text/plain": [
              "array([[99, 99, 99],\n",
              "       [ 4,  5,  6],\n",
              "       [ 7,  8,  9]])"
            ]
          },
          "metadata": {},
          "execution_count": 34
        }
      ]
    },
    {
      "cell_type": "markdown",
      "metadata": {
        "id": "KEJfgTPQ6thy"
      },
      "source": [
        "matrixC use the copy function, thus the value of matrixC is not changed. "
      ]
    },
    {
      "cell_type": "code",
      "metadata": {
        "colab": {
          "base_uri": "https://localhost:8080/"
        },
        "id": "GGdKl2uafQPi",
        "outputId": "a25b733d-8484-417a-d4da-74315718d262"
      },
      "source": [
        "matrixC"
      ],
      "execution_count": 35,
      "outputs": [
        {
          "output_type": "execute_result",
          "data": {
            "text/plain": [
              "array([[1, 2, 3],\n",
              "       [4, 5, 6],\n",
              "       [7, 8, 9]])"
            ]
          },
          "metadata": {},
          "execution_count": 35
        }
      ]
    },
    {
      "cell_type": "markdown",
      "metadata": {
        "id": "tTOVHYrLfQPi"
      },
      "source": [
        "Note that when we modify `matrixA`, `matrixB` changes, but not `matrixC`"
      ]
    },
    {
      "cell_type": "markdown",
      "metadata": {
        "id": "fUmIPmIQfQPj"
      },
      "source": [
        "## Array Manipulation"
      ]
    },
    {
      "cell_type": "markdown",
      "metadata": {
        "id": "-IycHnZufQPj"
      },
      "source": [
        "**Perform vertical (menegak) stack for 2 matrices using `numpy.vstack`.**"
      ]
    },
    {
      "cell_type": "markdown",
      "metadata": {
        "id": "dbcknxCV7Jh7"
      },
      "source": [
        "Declare 3x3, with 0 values inside."
      ]
    },
    {
      "cell_type": "code",
      "metadata": {
        "scrolled": true,
        "colab": {
          "base_uri": "https://localhost:8080/"
        },
        "id": "QsszpS1_fQPj",
        "outputId": "5247b5ca-9fac-422c-d319-ed3c9cd1e895"
      },
      "source": [
        "matrixA = np.zeros((3, 3))\n",
        "matrixA"
      ],
      "execution_count": 36,
      "outputs": [
        {
          "output_type": "execute_result",
          "data": {
            "text/plain": [
              "array([[0., 0., 0.],\n",
              "       [0., 0., 0.],\n",
              "       [0., 0., 0.]])"
            ]
          },
          "metadata": {},
          "execution_count": 36
        }
      ]
    },
    {
      "cell_type": "code",
      "metadata": {
        "colab": {
          "base_uri": "https://localhost:8080/"
        },
        "id": "wNbU9ZXffQPj",
        "outputId": "23fc78b1-8118-418a-e7e2-c2080b631f26"
      },
      "source": [
        "matrixB = np.ones((3, 3))\n",
        "matrixB"
      ],
      "execution_count": 37,
      "outputs": [
        {
          "output_type": "execute_result",
          "data": {
            "text/plain": [
              "array([[1., 1., 1.],\n",
              "       [1., 1., 1.],\n",
              "       [1., 1., 1.]])"
            ]
          },
          "metadata": {},
          "execution_count": 37
        }
      ]
    },
    {
      "cell_type": "code",
      "metadata": {
        "colab": {
          "base_uri": "https://localhost:8080/"
        },
        "id": "hkYd82PYfQPj",
        "outputId": "4608c942-171b-4b69-b2df-5ef2ec1bf12f"
      },
      "source": [
        "vstack_matrix = np.vstack((matrixA, matrixB))\n",
        "vstack_matrix"
      ],
      "execution_count": 38,
      "outputs": [
        {
          "output_type": "execute_result",
          "data": {
            "text/plain": [
              "array([[0., 0., 0.],\n",
              "       [0., 0., 0.],\n",
              "       [0., 0., 0.],\n",
              "       [1., 1., 1.],\n",
              "       [1., 1., 1.],\n",
              "       [1., 1., 1.]])"
            ]
          },
          "metadata": {},
          "execution_count": 38
        }
      ]
    },
    {
      "cell_type": "code",
      "metadata": {
        "colab": {
          "base_uri": "https://localhost:8080/"
        },
        "id": "Ty_hyb-5fQPk",
        "outputId": "7ec47ddf-ccc9-4fb1-ca29-8b044281c78f"
      },
      "source": [
        "vstack_matrix.shape"
      ],
      "execution_count": 39,
      "outputs": [
        {
          "output_type": "execute_result",
          "data": {
            "text/plain": [
              "(6, 3)"
            ]
          },
          "metadata": {},
          "execution_count": 39
        }
      ]
    },
    {
      "cell_type": "markdown",
      "metadata": {
        "id": "0l1GhVeHfQPk"
      },
      "source": [
        "**Perform horizontal stack for 2 matrices using `numpy.hstack`.**"
      ]
    },
    {
      "cell_type": "code",
      "metadata": {
        "colab": {
          "base_uri": "https://localhost:8080/"
        },
        "id": "btbgEI-7fQPk",
        "outputId": "1de88d5c-e729-45dc-96ea-2132c7a9c47f"
      },
      "source": [
        "hstack_matrix = np.hstack((matrixA, matrixB))\n",
        "hstack_matrix"
      ],
      "execution_count": 40,
      "outputs": [
        {
          "output_type": "execute_result",
          "data": {
            "text/plain": [
              "array([[0., 0., 0., 1., 1., 1.],\n",
              "       [0., 0., 0., 1., 1., 1.],\n",
              "       [0., 0., 0., 1., 1., 1.]])"
            ]
          },
          "metadata": {},
          "execution_count": 40
        }
      ]
    },
    {
      "cell_type": "code",
      "metadata": {
        "colab": {
          "base_uri": "https://localhost:8080/"
        },
        "id": "umvEw7xdfQPl",
        "outputId": "0affb7c8-34ed-4ea6-bd3d-48fc6ab73265"
      },
      "source": [
        "hstack_matrix.shape"
      ],
      "execution_count": 41,
      "outputs": [
        {
          "output_type": "execute_result",
          "data": {
            "text/plain": [
              "(3, 6)"
            ]
          },
          "metadata": {},
          "execution_count": 41
        }
      ]
    },
    {
      "cell_type": "markdown",
      "metadata": {
        "id": "_GaeWp3KfQPl"
      },
      "source": [
        "**Perform depth stack for 2 matrices using `numpy.dstack`.**"
      ]
    },
    {
      "cell_type": "code",
      "metadata": {
        "id": "fC_BxY1WfQPl"
      },
      "source": [
        "matrixD = np.array([[1, 2, 3], [4, 5, 6], [7, 8, 9]])\n",
        "matrixE = np.array([[10, 20, 30], [40, 50, 60], [70, 80, 90]])"
      ],
      "execution_count": 62,
      "outputs": []
    },
    {
      "cell_type": "code",
      "metadata": {
        "id": "bV2-SpL-7vv5",
        "outputId": "7491dcf5-cf80-4bbd-94c2-feaf070359ef",
        "colab": {
          "base_uri": "https://localhost:8080/"
        }
      },
      "source": [
        "matrixD"
      ],
      "execution_count": 66,
      "outputs": [
        {
          "output_type": "execute_result",
          "data": {
            "text/plain": [
              "array([[1, 2, 3],\n",
              "       [4, 5, 6],\n",
              "       [7, 8, 9]])"
            ]
          },
          "metadata": {},
          "execution_count": 66
        }
      ]
    },
    {
      "cell_type": "code",
      "metadata": {
        "id": "6nusdG0k8aNj",
        "outputId": "c9bdf395-c0c4-4a97-8910-a5ff8347bf29",
        "colab": {
          "base_uri": "https://localhost:8080/"
        }
      },
      "source": [
        "matrixE"
      ],
      "execution_count": 65,
      "outputs": [
        {
          "output_type": "execute_result",
          "data": {
            "text/plain": [
              "array([[10, 20, 30],\n",
              "       [40, 50, 60],\n",
              "       [70, 80, 90]])"
            ]
          },
          "metadata": {},
          "execution_count": 65
        }
      ]
    },
    {
      "cell_type": "code",
      "metadata": {
        "colab": {
          "base_uri": "https://localhost:8080/"
        },
        "id": "QOButGD1fQPm",
        "outputId": "4540ab09-4c0e-4d94-8c71-871ccb6a8d46"
      },
      "source": [
        "dstack_matrix = np.dstack((matrixD, matrixE))\n",
        "dstack_matrix"
      ],
      "execution_count": 67,
      "outputs": [
        {
          "output_type": "execute_result",
          "data": {
            "text/plain": [
              "array([[[ 1, 10],\n",
              "        [ 2, 20],\n",
              "        [ 3, 30]],\n",
              "\n",
              "       [[ 4, 40],\n",
              "        [ 5, 50],\n",
              "        [ 6, 60]],\n",
              "\n",
              "       [[ 7, 70],\n",
              "        [ 8, 80],\n",
              "        [ 9, 90]]])"
            ]
          },
          "metadata": {},
          "execution_count": 67
        }
      ]
    },
    {
      "cell_type": "code",
      "metadata": {
        "scrolled": true,
        "colab": {
          "base_uri": "https://localhost:8080/"
        },
        "id": "_CZh-m0pfQPm",
        "outputId": "7dde3f13-b251-4b3c-a1ae-06d4a2f1be94"
      },
      "source": [
        "dstack_matrix.shape"
      ],
      "execution_count": 44,
      "outputs": [
        {
          "output_type": "execute_result",
          "data": {
            "text/plain": [
              "(3, 3, 2)"
            ]
          },
          "metadata": {},
          "execution_count": 44
        }
      ]
    },
    {
      "cell_type": "markdown",
      "metadata": {
        "id": "Q6l5bBdIfQPm"
      },
      "source": [
        "**Transpose a matrix.**"
      ]
    },
    {
      "cell_type": "code",
      "metadata": {
        "colab": {
          "base_uri": "https://localhost:8080/"
        },
        "id": "KK95INMzfQPm",
        "outputId": "665c343f-e493-49cf-88e8-c934461a0251"
      },
      "source": [
        "matrixF = np.transpose(matrixD)\n",
        "matrixF"
      ],
      "execution_count": 70,
      "outputs": [
        {
          "output_type": "execute_result",
          "data": {
            "text/plain": [
              "array([[1, 4, 7],\n",
              "       [2, 5, 8],\n",
              "       [3, 6, 9]])"
            ]
          },
          "metadata": {},
          "execution_count": 70
        }
      ]
    },
    {
      "cell_type": "markdown",
      "metadata": {
        "id": "f1-8sG9cfQPn"
      },
      "source": [
        "**Reshape a matrix into the assigned row x column.**"
      ]
    },
    {
      "cell_type": "code",
      "metadata": {
        "scrolled": true,
        "colab": {
          "base_uri": "https://localhost:8080/"
        },
        "id": "5QCzkxU2fQPn",
        "outputId": "da9792d7-61d8-4ab2-9707-c2c54c57d244"
      },
      "source": [
        "matrixF = matrixD.reshape(1, 9)\n",
        "matrixF"
      ],
      "execution_count": 71,
      "outputs": [
        {
          "output_type": "execute_result",
          "data": {
            "text/plain": [
              "array([[1, 2, 3, 4, 5, 6, 7, 8, 9]])"
            ]
          },
          "metadata": {},
          "execution_count": 71
        }
      ]
    },
    {
      "cell_type": "markdown",
      "metadata": {
        "id": "ejpW8jdYfQPn"
      },
      "source": [
        "**Split a matrix vertically at the n-th index to 2 equal-sized subarrays.**"
      ]
    },
    {
      "cell_type": "code",
      "metadata": {
        "scrolled": true,
        "colab": {
          "base_uri": "https://localhost:8080/"
        },
        "id": "rQe438vwfQPn",
        "outputId": "c23a5c37-8eed-4e5c-e9f6-16d208454b16"
      },
      "source": [
        "matrixD = np.array([[0, 0, 0], [0, 0, 0], [1, 1, 1], [1, 1, 1]])\n",
        "matrixD"
      ],
      "execution_count": 73,
      "outputs": [
        {
          "output_type": "execute_result",
          "data": {
            "text/plain": [
              "array([[0, 0, 0],\n",
              "       [0, 0, 0],\n",
              "       [1, 1, 1],\n",
              "       [1, 1, 1]])"
            ]
          },
          "metadata": {},
          "execution_count": 73
        }
      ]
    },
    {
      "cell_type": "code",
      "metadata": {
        "colab": {
          "base_uri": "https://localhost:8080/"
        },
        "id": "KoTp0ubzfQPn",
        "outputId": "4960714e-ec16-4b92-853f-36c65e05c81c"
      },
      "source": [
        "matrixF = np.vsplit(matrixD, 2)\n",
        "matrixF"
      ],
      "execution_count": 74,
      "outputs": [
        {
          "output_type": "execute_result",
          "data": {
            "text/plain": [
              "[array([[0, 0, 0],\n",
              "        [0, 0, 0]]), array([[1, 1, 1],\n",
              "        [1, 1, 1]])]"
            ]
          },
          "metadata": {},
          "execution_count": 74
        }
      ]
    },
    {
      "cell_type": "markdown",
      "metadata": {
        "id": "L4FOv_eCfQPo"
      },
      "source": [
        "**Split a matrix horizontally into 3 equal-sized subarrays.** "
      ]
    },
    {
      "cell_type": "code",
      "metadata": {
        "colab": {
          "base_uri": "https://localhost:8080/"
        },
        "id": "byLQ0P2WfQPo",
        "outputId": "da8015d7-30be-4dce-c4d1-e2fd19c2865a"
      },
      "source": [
        "matrixA = np.array([[0, 0, 0], [0, 0, 0], [1, 1, 1], [1, 1, 1]])\n",
        "matrixA"
      ],
      "execution_count": 49,
      "outputs": [
        {
          "output_type": "execute_result",
          "data": {
            "text/plain": [
              "array([[0, 0, 0],\n",
              "       [0, 0, 0],\n",
              "       [1, 1, 1],\n",
              "       [1, 1, 1]])"
            ]
          },
          "metadata": {},
          "execution_count": 49
        }
      ]
    },
    {
      "cell_type": "code",
      "metadata": {
        "colab": {
          "base_uri": "https://localhost:8080/"
        },
        "id": "6dzotWMpfQPo",
        "outputId": "2c0bc9fc-faa5-479d-d22d-06b3f1b09a94"
      },
      "source": [
        "matrixC = np.hsplit(matrixA, 3)\n",
        "matrixC"
      ],
      "execution_count": 50,
      "outputs": [
        {
          "output_type": "execute_result",
          "data": {
            "text/plain": [
              "[array([[0],\n",
              "        [0],\n",
              "        [1],\n",
              "        [1]]), array([[0],\n",
              "        [0],\n",
              "        [1],\n",
              "        [1]]), array([[0],\n",
              "        [0],\n",
              "        [1],\n",
              "        [1]])]"
            ]
          },
          "metadata": {},
          "execution_count": 50
        }
      ]
    },
    {
      "cell_type": "markdown",
      "metadata": {
        "id": "vtRxQcZxfQPp"
      },
      "source": [
        "## Exercise"
      ]
    },
    {
      "cell_type": "markdown",
      "metadata": {
        "id": "yM9BEzIbfQPp"
      },
      "source": [
        "Create a $5\\times 3$ matrix populated with random samples from a uniform distribution and name it **`mat_1`**.\n",
        "\n",
        "*hint: `numpy.random.rand`*"
      ]
    },
    {
      "cell_type": "code",
      "metadata": {
        "colab": {
          "base_uri": "https://localhost:8080/"
        },
        "id": "RuJcf4DEfQPp",
        "outputId": "5c868518-a725-4cd0-9d11-39d1b33fae92"
      },
      "source": [
        "mat_1 = np.random.rand(5, 3)\n",
        "mat_1"
      ],
      "execution_count": 51,
      "outputs": [
        {
          "output_type": "execute_result",
          "data": {
            "text/plain": [
              "array([[0.83367275, 0.79111421, 0.18234297],\n",
              "       [0.33774929, 0.91131853, 0.34707482],\n",
              "       [0.55183786, 0.75737953, 0.82019757],\n",
              "       [0.96442745, 0.74410621, 0.77595043],\n",
              "       [0.08606538, 0.75189041, 0.33701298]])"
            ]
          },
          "metadata": {},
          "execution_count": 51
        }
      ]
    },
    {
      "cell_type": "markdown",
      "metadata": {
        "id": "lyrwsTG7fQPq"
      },
      "source": [
        "Create a matrix **`mat_2`** of any size. The matrix should be eligible to perform matrix multiplication with `mat_1`."
      ]
    },
    {
      "cell_type": "code",
      "metadata": {
        "colab": {
          "base_uri": "https://localhost:8080/"
        },
        "id": "uuHpM_g6fQPq",
        "outputId": "dabf8a35-5bfe-4747-ef00-2c673ddc8c52"
      },
      "source": [
        "mat_2 = np.random.rand(3, 2)\n",
        "mat_2"
      ],
      "execution_count": 52,
      "outputs": [
        {
          "output_type": "execute_result",
          "data": {
            "text/plain": [
              "array([[0.70001244, 0.58972124],\n",
              "       [0.00856082, 0.27114881],\n",
              "       [0.79634444, 0.85369731]])"
            ]
          },
          "metadata": {},
          "execution_count": 52
        }
      ]
    },
    {
      "cell_type": "markdown",
      "metadata": {
        "id": "lk_pZUXufQPq"
      },
      "source": [
        "Perform matrix multiplication of `mat_1` and `mat_2` and store it in variable **`mat_3`**."
      ]
    },
    {
      "cell_type": "code",
      "metadata": {
        "colab": {
          "base_uri": "https://localhost:8080/"
        },
        "id": "Un2EPYYLfQPq",
        "outputId": "2d64d045-b8aa-41bf-cf53-c99510bd1fcb"
      },
      "source": [
        "mat_3 = np.matmul(mat_1, mat_2)\n",
        "mat_3"
      ],
      "execution_count": 53,
      "outputs": [
        {
          "output_type": "execute_result",
          "data": {
            "text/plain": [
              "array([[0.73556169, 0.8618099 ],\n",
              "       [0.52062144, 0.7425777 ],\n",
              "       [1.04593693, 1.23099352],\n",
              "       [1.29940518, 1.43293365],\n",
              "       [0.33506204, 0.54233584]])"
            ]
          },
          "metadata": {},
          "execution_count": 53
        }
      ]
    },
    {
      "cell_type": "markdown",
      "metadata": {
        "id": "R-ky7FHxfQPq"
      },
      "source": [
        "Create another matrix that has the same number of columns as `mat_3` and name it **`mat_4`**"
      ]
    },
    {
      "cell_type": "code",
      "metadata": {
        "colab": {
          "base_uri": "https://localhost:8080/"
        },
        "id": "7L0a4SKxfQPr",
        "outputId": "e1b8024c-fe72-4c7c-90e2-798969271a28"
      },
      "source": [
        "mat_4 = np.random.rand(3, 2)\n",
        "mat_4"
      ],
      "execution_count": 54,
      "outputs": [
        {
          "output_type": "execute_result",
          "data": {
            "text/plain": [
              "array([[0.77386403, 0.20132717],\n",
              "       [0.2840089 , 0.67223133],\n",
              "       [0.24474665, 0.92668179]])"
            ]
          },
          "metadata": {},
          "execution_count": 54
        }
      ]
    },
    {
      "cell_type": "markdown",
      "metadata": {
        "id": "Mq0gmI2NfQPr"
      },
      "source": [
        "Stack matrix `mat_3` and `mat_4` vertically. Name the result **`mat_5`**."
      ]
    },
    {
      "cell_type": "code",
      "metadata": {
        "colab": {
          "base_uri": "https://localhost:8080/"
        },
        "id": "aXpqg9yefQPr",
        "outputId": "4346370e-5e4b-41ac-ba32-8cb9afb52b7f"
      },
      "source": [
        "mat_5 = np.vstack((mat_3, mat_4))\n",
        "mat_5"
      ],
      "execution_count": 55,
      "outputs": [
        {
          "output_type": "execute_result",
          "data": {
            "text/plain": [
              "array([[0.73556169, 0.8618099 ],\n",
              "       [0.52062144, 0.7425777 ],\n",
              "       [1.04593693, 1.23099352],\n",
              "       [1.29940518, 1.43293365],\n",
              "       [0.33506204, 0.54233584],\n",
              "       [0.77386403, 0.20132717],\n",
              "       [0.2840089 , 0.67223133],\n",
              "       [0.24474665, 0.92668179]])"
            ]
          },
          "metadata": {},
          "execution_count": 55
        }
      ]
    },
    {
      "cell_type": "markdown",
      "metadata": {
        "id": "w5sa_74XfQPr"
      },
      "source": [
        "Transpose `mat_5` and name the transposed matrix **`mat_6`**."
      ]
    },
    {
      "cell_type": "code",
      "metadata": {
        "colab": {
          "base_uri": "https://localhost:8080/"
        },
        "id": "glSSGpKgfQPr",
        "outputId": "1093c9c2-cace-4ed3-f732-9a55ecc8e5e1"
      },
      "source": [
        "mat_6 = np.transpose(mat_5)\n",
        "mat_6"
      ],
      "execution_count": 56,
      "outputs": [
        {
          "output_type": "execute_result",
          "data": {
            "text/plain": [
              "array([[0.73556169, 0.52062144, 1.04593693, 1.29940518, 0.33506204,\n",
              "        0.77386403, 0.2840089 , 0.24474665],\n",
              "       [0.8618099 , 0.7425777 , 1.23099352, 1.43293365, 0.54233584,\n",
              "        0.20132717, 0.67223133, 0.92668179]])"
            ]
          },
          "metadata": {},
          "execution_count": 56
        }
      ]
    },
    {
      "cell_type": "markdown",
      "metadata": {
        "id": "8b2XZiMIfQPs"
      },
      "source": [
        "Check the shape of **`mat_6`**."
      ]
    },
    {
      "cell_type": "code",
      "metadata": {
        "colab": {
          "base_uri": "https://localhost:8080/"
        },
        "id": "Pc1psTDFfQPs",
        "outputId": "1e6b663a-00a9-42ab-e7de-be67338a79ae"
      },
      "source": [
        "mat_6.shape"
      ],
      "execution_count": 57,
      "outputs": [
        {
          "output_type": "execute_result",
          "data": {
            "text/plain": [
              "(2, 8)"
            ]
          },
          "metadata": {},
          "execution_count": 57
        }
      ]
    },
    {
      "cell_type": "markdown",
      "metadata": {
        "id": "oDQZqhsnfQPs"
      },
      "source": [
        "Vertically split **`mat_6`** into two subarrays."
      ]
    },
    {
      "cell_type": "code",
      "metadata": {
        "colab": {
          "base_uri": "https://localhost:8080/"
        },
        "id": "AjuZACAxfQPs",
        "outputId": "3316a51c-696f-4539-b1cb-93e59100ae8a"
      },
      "source": [
        "arr = np.vsplit(mat_6,2)\n",
        "arr"
      ],
      "execution_count": 58,
      "outputs": [
        {
          "output_type": "execute_result",
          "data": {
            "text/plain": [
              "[array([[0.73556169, 0.52062144, 1.04593693, 1.29940518, 0.33506204,\n",
              "         0.77386403, 0.2840089 , 0.24474665]]),\n",
              " array([[0.8618099 , 0.7425777 , 1.23099352, 1.43293365, 0.54233584,\n",
              "         0.20132717, 0.67223133, 0.92668179]])]"
            ]
          },
          "metadata": {},
          "execution_count": 58
        }
      ]
    }
  ]
}