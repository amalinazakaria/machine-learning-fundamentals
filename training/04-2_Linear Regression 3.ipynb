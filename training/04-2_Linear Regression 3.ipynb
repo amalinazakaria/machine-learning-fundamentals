{
  "nbformat": 4,
  "nbformat_minor": 0,
  "metadata": {
    "kernelspec": {
      "display_name": "Python 3",
      "language": "python",
      "name": "python3"
    },
    "language_info": {
      "codemirror_mode": {
        "name": "ipython",
        "version": 3
      },
      "file_extension": ".py",
      "mimetype": "text/x-python",
      "name": "python",
      "nbconvert_exporter": "python",
      "pygments_lexer": "ipython3",
      "version": "3.8.3"
    },
    "colab": {
      "name": "04-2_Linear Regression 3.ipynb",
      "provenance": []
    }
  },
  "cells": [
    {
      "cell_type": "code",
      "metadata": {
        "deletable": false,
        "editable": false,
        "id": "R3nWtptERuR7"
      },
      "source": [
        "# Copyright (c) 2019 Skymind AI Bhd.\n",
        "# Copyright (c) 2020 CertifAI Sdn. Bhd.\n",
        "#\n",
        "# This program and the accompanying materials are made available under the\n",
        "# terms of the Apache License, Version 2.0 which is available at\n",
        "# https://www.apache.org/licenses/LICENSE-2.0.\n",
        "# Unless required by applicable law or agreed to in writing, software\n",
        "# distributed under the License is distributed on an \"AS IS\" BASIS, WITHOUT\n",
        "# WARRANTIES OR CONDITIONS OF ANY KIND, either express or implied. See the\n",
        "# License for the specific language governing permissions and limitations\n",
        "# under the License.\n",
        "#\n",
        "# SPDX-License-Identifier: Apache-2.0"
      ],
      "execution_count": 1,
      "outputs": []
    },
    {
      "cell_type": "code",
      "metadata": {
        "id": "LQcoUKqURuSC"
      },
      "source": [
        "import numpy as np\n",
        "import pandas as pd\n",
        "from sklearn import datasets\n",
        "from sklearn import model_selection\n",
        "from sklearn import metrics\n",
        "from sklearn.model_selection import train_test_split\n",
        "from sklearn.linear_model import LinearRegression\n",
        "from sklearn import preprocessing\n",
        "\n",
        "import matplotlib.pyplot as plt\n",
        "%matplotlib inline"
      ],
      "execution_count": 2,
      "outputs": []
    },
    {
      "cell_type": "markdown",
      "metadata": {
        "id": "PImDw01sRuSD"
      },
      "source": [
        "## View data"
      ]
    },
    {
      "cell_type": "code",
      "metadata": {
        "id": "wjd8O5GyRuSH"
      },
      "source": [
        "df = pd.read_csv('https://www4.stat.ncsu.edu/~boos/var.select/diabetes.tab.txt', sep=\"\\t\")"
      ],
      "execution_count": 3,
      "outputs": []
    },
    {
      "cell_type": "code",
      "metadata": {
        "id": "FI9gGS5uRuSJ",
        "outputId": "1d14ec31-bbc3-427c-cede-e4ff4ac814b8",
        "colab": {
          "base_uri": "https://localhost:8080/",
          "height": 203
        }
      },
      "source": [
        "df.head()"
      ],
      "execution_count": 4,
      "outputs": [
        {
          "output_type": "execute_result",
          "data": {
            "text/html": [
              "<div>\n",
              "<style scoped>\n",
              "    .dataframe tbody tr th:only-of-type {\n",
              "        vertical-align: middle;\n",
              "    }\n",
              "\n",
              "    .dataframe tbody tr th {\n",
              "        vertical-align: top;\n",
              "    }\n",
              "\n",
              "    .dataframe thead th {\n",
              "        text-align: right;\n",
              "    }\n",
              "</style>\n",
              "<table border=\"1\" class=\"dataframe\">\n",
              "  <thead>\n",
              "    <tr style=\"text-align: right;\">\n",
              "      <th></th>\n",
              "      <th>AGE</th>\n",
              "      <th>SEX</th>\n",
              "      <th>BMI</th>\n",
              "      <th>BP</th>\n",
              "      <th>S1</th>\n",
              "      <th>S2</th>\n",
              "      <th>S3</th>\n",
              "      <th>S4</th>\n",
              "      <th>S5</th>\n",
              "      <th>S6</th>\n",
              "      <th>Y</th>\n",
              "    </tr>\n",
              "  </thead>\n",
              "  <tbody>\n",
              "    <tr>\n",
              "      <th>0</th>\n",
              "      <td>59</td>\n",
              "      <td>2</td>\n",
              "      <td>32.1</td>\n",
              "      <td>101.0</td>\n",
              "      <td>157</td>\n",
              "      <td>93.2</td>\n",
              "      <td>38.0</td>\n",
              "      <td>4.0</td>\n",
              "      <td>4.8598</td>\n",
              "      <td>87</td>\n",
              "      <td>151</td>\n",
              "    </tr>\n",
              "    <tr>\n",
              "      <th>1</th>\n",
              "      <td>48</td>\n",
              "      <td>1</td>\n",
              "      <td>21.6</td>\n",
              "      <td>87.0</td>\n",
              "      <td>183</td>\n",
              "      <td>103.2</td>\n",
              "      <td>70.0</td>\n",
              "      <td>3.0</td>\n",
              "      <td>3.8918</td>\n",
              "      <td>69</td>\n",
              "      <td>75</td>\n",
              "    </tr>\n",
              "    <tr>\n",
              "      <th>2</th>\n",
              "      <td>72</td>\n",
              "      <td>2</td>\n",
              "      <td>30.5</td>\n",
              "      <td>93.0</td>\n",
              "      <td>156</td>\n",
              "      <td>93.6</td>\n",
              "      <td>41.0</td>\n",
              "      <td>4.0</td>\n",
              "      <td>4.6728</td>\n",
              "      <td>85</td>\n",
              "      <td>141</td>\n",
              "    </tr>\n",
              "    <tr>\n",
              "      <th>3</th>\n",
              "      <td>24</td>\n",
              "      <td>1</td>\n",
              "      <td>25.3</td>\n",
              "      <td>84.0</td>\n",
              "      <td>198</td>\n",
              "      <td>131.4</td>\n",
              "      <td>40.0</td>\n",
              "      <td>5.0</td>\n",
              "      <td>4.8903</td>\n",
              "      <td>89</td>\n",
              "      <td>206</td>\n",
              "    </tr>\n",
              "    <tr>\n",
              "      <th>4</th>\n",
              "      <td>50</td>\n",
              "      <td>1</td>\n",
              "      <td>23.0</td>\n",
              "      <td>101.0</td>\n",
              "      <td>192</td>\n",
              "      <td>125.4</td>\n",
              "      <td>52.0</td>\n",
              "      <td>4.0</td>\n",
              "      <td>4.2905</td>\n",
              "      <td>80</td>\n",
              "      <td>135</td>\n",
              "    </tr>\n",
              "  </tbody>\n",
              "</table>\n",
              "</div>"
            ],
            "text/plain": [
              "   AGE  SEX   BMI     BP   S1     S2    S3   S4      S5  S6    Y\n",
              "0   59    2  32.1  101.0  157   93.2  38.0  4.0  4.8598  87  151\n",
              "1   48    1  21.6   87.0  183  103.2  70.0  3.0  3.8918  69   75\n",
              "2   72    2  30.5   93.0  156   93.6  41.0  4.0  4.6728  85  141\n",
              "3   24    1  25.3   84.0  198  131.4  40.0  5.0  4.8903  89  206\n",
              "4   50    1  23.0  101.0  192  125.4  52.0  4.0  4.2905  80  135"
            ]
          },
          "metadata": {},
          "execution_count": 4
        }
      ]
    },
    {
      "cell_type": "markdown",
      "metadata": {
        "id": "DVfoylSSRuSL"
      },
      "source": [
        "The sklearn's load_diabetes() dataset is using the same source in this example. The difference is load_diabetes() returns standardized data, while this example works from scratch.\n",
        "\n",
        "#### Dataset feeatures\n",
        "- age: age in years\n",
        "- sex\n",
        "- bmi: body mass index\n",
        "- bp: average blood pressure\n",
        "- s1: tc, T-Cells (a type of white blood cells)\n",
        "- s2: ldl, low-density lipoproteins\n",
        "- s3: hdl, high-density lipoproteins\n",
        "- s4: tch, thyroid stimulating hormone\n",
        "- s5: ltg, lamotrigine\n",
        "- s6: glu, blood sugar level\n",
        "\n",
        "#### Target (Y column)\n",
        "As you can see from the full description below, the dataset aims to predict the quantitative measure of disease progression."
      ]
    },
    {
      "cell_type": "code",
      "metadata": {
        "id": "yjF4c411RuSN",
        "outputId": "0b13eecd-51b0-4064-f8cd-95e5aca1318f",
        "colab": {
          "base_uri": "https://localhost:8080/"
        }
      },
      "source": [
        "# View full description\n",
        "for line in datasets.load_diabetes()['DESCR'].split('\\n'):\n",
        "    print(line)"
      ],
      "execution_count": 5,
      "outputs": [
        {
          "output_type": "stream",
          "name": "stdout",
          "text": [
            ".. _diabetes_dataset:\n",
            "\n",
            "Diabetes dataset\n",
            "----------------\n",
            "\n",
            "Ten baseline variables, age, sex, body mass index, average blood\n",
            "pressure, and six blood serum measurements were obtained for each of n =\n",
            "442 diabetes patients, as well as the response of interest, a\n",
            "quantitative measure of disease progression one year after baseline.\n",
            "\n",
            "**Data Set Characteristics:**\n",
            "\n",
            "  :Number of Instances: 442\n",
            "\n",
            "  :Number of Attributes: First 10 columns are numeric predictive values\n",
            "\n",
            "  :Target: Column 11 is a quantitative measure of disease progression one year after baseline\n",
            "\n",
            "  :Attribute Information:\n",
            "      - Age\n",
            "      - Sex\n",
            "      - Body mass index\n",
            "      - Average blood pressure\n",
            "      - S1\n",
            "      - S2\n",
            "      - S3\n",
            "      - S4\n",
            "      - S5\n",
            "      - S6\n",
            "\n",
            "Note: Each of these 10 feature variables have been mean centered and scaled by the standard deviation times `n_samples` (i.e. the sum of squares of each column totals 1).\n",
            "\n",
            "Source URL:\n",
            "https://www4.stat.ncsu.edu/~boos/var.select/diabetes.html\n",
            "\n",
            "For more information see:\n",
            "Bradley Efron, Trevor Hastie, Iain Johnstone and Robert Tibshirani (2004) \"Least Angle Regression,\" Annals of Statistics (with discussion), 407-499.\n",
            "(https://web.stanford.edu/~hastie/Papers/LARS/LeastAngle_2002.pdf)\n"
          ]
        }
      ]
    },
    {
      "cell_type": "markdown",
      "metadata": {
        "id": "iyGgMhiyRuSO"
      },
      "source": [
        "## Prepare data"
      ]
    },
    {
      "cell_type": "markdown",
      "metadata": {
        "id": "MvJIqSe7RuSP"
      },
      "source": [
        "Group the age column according to range"
      ]
    },
    {
      "cell_type": "code",
      "metadata": {
        "id": "m-hTxS6kRuSQ",
        "outputId": "8609af27-f33b-41db-ba38-73c56ea965e6",
        "colab": {
          "base_uri": "https://localhost:8080/"
        }
      },
      "source": [
        "age = df['AGE']\n",
        "print(min(age), max(age))"
      ],
      "execution_count": 8,
      "outputs": [
        {
          "output_type": "stream",
          "name": "stdout",
          "text": [
            "19 79\n"
          ]
        }
      ]
    },
    {
      "cell_type": "markdown",
      "metadata": {
        "id": "uAtP0ko7RuSR"
      },
      "source": [
        "Let's set the low limit to be 10 and upper limit 80 according to the min and max value of the data.\n",
        "\n",
        "The labels are set according to the age group definition\n",
        "[Source](https://help.healthycities.org/hc/en-us/articles/219556208-How-are-the-different-age-groups-defined-)"
      ]
    },
    {
      "cell_type": "code",
      "metadata": {
        "id": "5g0BINnNRuSS"
      },
      "source": [
        "# Set the bins\n",
        "bins = [10, 12, 17, 65, 80]\n",
        "age_labels = [\"children\", \"teens\", \"adults\", \"elderly\"]\n",
        "\n",
        "# perform range encoding\n",
        "age = pd.cut(age, bins=bins, labels=age_labels, include_lowest=True)\n",
        "age = pd.DataFrame(age)"
      ],
      "execution_count": 9,
      "outputs": []
    },
    {
      "cell_type": "code",
      "metadata": {
        "id": "9g9yDdP5RuSU",
        "outputId": "bc637c0e-dca9-4aaa-eb19-5c48167d1990",
        "colab": {
          "base_uri": "https://localhost:8080/",
          "height": 203
        }
      },
      "source": [
        "age.head()"
      ],
      "execution_count": 10,
      "outputs": [
        {
          "output_type": "execute_result",
          "data": {
            "text/html": [
              "<div>\n",
              "<style scoped>\n",
              "    .dataframe tbody tr th:only-of-type {\n",
              "        vertical-align: middle;\n",
              "    }\n",
              "\n",
              "    .dataframe tbody tr th {\n",
              "        vertical-align: top;\n",
              "    }\n",
              "\n",
              "    .dataframe thead th {\n",
              "        text-align: right;\n",
              "    }\n",
              "</style>\n",
              "<table border=\"1\" class=\"dataframe\">\n",
              "  <thead>\n",
              "    <tr style=\"text-align: right;\">\n",
              "      <th></th>\n",
              "      <th>AGE</th>\n",
              "    </tr>\n",
              "  </thead>\n",
              "  <tbody>\n",
              "    <tr>\n",
              "      <th>0</th>\n",
              "      <td>adults</td>\n",
              "    </tr>\n",
              "    <tr>\n",
              "      <th>1</th>\n",
              "      <td>adults</td>\n",
              "    </tr>\n",
              "    <tr>\n",
              "      <th>2</th>\n",
              "      <td>elderly</td>\n",
              "    </tr>\n",
              "    <tr>\n",
              "      <th>3</th>\n",
              "      <td>adults</td>\n",
              "    </tr>\n",
              "    <tr>\n",
              "      <th>4</th>\n",
              "      <td>adults</td>\n",
              "    </tr>\n",
              "  </tbody>\n",
              "</table>\n",
              "</div>"
            ],
            "text/plain": [
              "       AGE\n",
              "0   adults\n",
              "1   adults\n",
              "2  elderly\n",
              "3   adults\n",
              "4   adults"
            ]
          },
          "metadata": {},
          "execution_count": 10
        }
      ]
    },
    {
      "cell_type": "markdown",
      "metadata": {
        "id": "pOiPQqDpRuSU"
      },
      "source": [
        "### One-hot encoding\n",
        "\n",
        "After grouping the age data, perform one-hot encoding."
      ]
    },
    {
      "cell_type": "code",
      "metadata": {
        "id": "ehk4XmjgRuSV",
        "outputId": "b320076d-f6a3-400a-8891-0eabd65927eb",
        "colab": {
          "base_uri": "https://localhost:8080/",
          "height": 128
        }
      },
      "source": [
        "age = pd.dummies(age)\n",
        "\n",
        "# use rename() to change the new column name\n",
        "gender = pd.(df[\"SEX\"]).gender(columns={1:\"gender1\", 2:\"gender2\"})\n",
        "\n",
        "gender.head()"
      ],
      "execution_count": 19,
      "outputs": [
        {
          "output_type": "error",
          "ename": "SyntaxError",
          "evalue": "ignored",
          "traceback": [
            "\u001b[0;36m  File \u001b[0;32m\"<ipython-input-19-f18f53705a28>\"\u001b[0;36m, line \u001b[0;32m4\u001b[0m\n\u001b[0;31m    gender = pd.(df[\"SEX\"]).gender(columns={1:\"gender1\", 2:\"gender2\"})\u001b[0m\n\u001b[0m                ^\u001b[0m\n\u001b[0;31mSyntaxError\u001b[0m\u001b[0;31m:\u001b[0m invalid syntax\n"
          ]
        }
      ]
    },
    {
      "cell_type": "markdown",
      "metadata": {
        "id": "_gV_GpyYRuSV"
      },
      "source": [
        "### Normalize data"
      ]
    },
    {
      "cell_type": "markdown",
      "metadata": {
        "id": "JGj59VneRuSW"
      },
      "source": [
        "Use sklearn MinMaxScaler for to normalize data"
      ]
    },
    {
      "cell_type": "code",
      "metadata": {
        "id": "ut1-QPj1RuSX"
      },
      "source": [
        "scaler = preprocessing.MinMaxScaler()\n",
        "df_to_scale = df.drop([\"AGE\", \"SEX\"],axis=1)\n",
        "df_scaled = scaler.fit_transform(df_to_scale)\n",
        "\n",
        "column_names = [\"BMI\",\"BP\",\"S1\",\"S2\",\"S3\",\"S4\",\"S5\",\"S6\",\"Y\"]\n",
        "df_scaled = pd.DataFrame(df_scaled, columns=column_names)"
      ],
      "execution_count": 15,
      "outputs": []
    },
    {
      "cell_type": "code",
      "metadata": {
        "id": "XROrA7GbRuSY",
        "outputId": "05ffb589-c548-4b80-a862-3d685055890f",
        "colab": {
          "base_uri": "https://localhost:8080/",
          "height": 223
        }
      },
      "source": [
        "df_scaled.head()"
      ],
      "execution_count": 16,
      "outputs": [
        {
          "output_type": "execute_result",
          "data": {
            "text/html": [
              "<div>\n",
              "<style scoped>\n",
              "    .dataframe tbody tr th:only-of-type {\n",
              "        vertical-align: middle;\n",
              "    }\n",
              "\n",
              "    .dataframe tbody tr th {\n",
              "        vertical-align: top;\n",
              "    }\n",
              "\n",
              "    .dataframe thead th {\n",
              "        text-align: right;\n",
              "    }\n",
              "</style>\n",
              "<table border=\"1\" class=\"dataframe\">\n",
              "  <thead>\n",
              "    <tr style=\"text-align: right;\">\n",
              "      <th></th>\n",
              "      <th>BMI</th>\n",
              "      <th>BP</th>\n",
              "      <th>S1</th>\n",
              "      <th>S2</th>\n",
              "      <th>S3</th>\n",
              "      <th>S4</th>\n",
              "      <th>S5</th>\n",
              "      <th>S6</th>\n",
              "      <th>Y</th>\n",
              "    </tr>\n",
              "  </thead>\n",
              "  <tbody>\n",
              "    <tr>\n",
              "      <th>0</th>\n",
              "      <td>0.582645</td>\n",
              "      <td>0.549296</td>\n",
              "      <td>0.294118</td>\n",
              "      <td>0.256972</td>\n",
              "      <td>0.207792</td>\n",
              "      <td>0.282087</td>\n",
              "      <td>0.562217</td>\n",
              "      <td>0.439394</td>\n",
              "      <td>0.392523</td>\n",
              "    </tr>\n",
              "    <tr>\n",
              "      <th>1</th>\n",
              "      <td>0.148760</td>\n",
              "      <td>0.352113</td>\n",
              "      <td>0.421569</td>\n",
              "      <td>0.306773</td>\n",
              "      <td>0.623377</td>\n",
              "      <td>0.141044</td>\n",
              "      <td>0.222437</td>\n",
              "      <td>0.166667</td>\n",
              "      <td>0.155763</td>\n",
              "    </tr>\n",
              "    <tr>\n",
              "      <th>2</th>\n",
              "      <td>0.516529</td>\n",
              "      <td>0.436620</td>\n",
              "      <td>0.289216</td>\n",
              "      <td>0.258964</td>\n",
              "      <td>0.246753</td>\n",
              "      <td>0.282087</td>\n",
              "      <td>0.496578</td>\n",
              "      <td>0.409091</td>\n",
              "      <td>0.361371</td>\n",
              "    </tr>\n",
              "    <tr>\n",
              "      <th>3</th>\n",
              "      <td>0.301653</td>\n",
              "      <td>0.309859</td>\n",
              "      <td>0.495098</td>\n",
              "      <td>0.447211</td>\n",
              "      <td>0.233766</td>\n",
              "      <td>0.423131</td>\n",
              "      <td>0.572923</td>\n",
              "      <td>0.469697</td>\n",
              "      <td>0.563863</td>\n",
              "    </tr>\n",
              "    <tr>\n",
              "      <th>4</th>\n",
              "      <td>0.206612</td>\n",
              "      <td>0.549296</td>\n",
              "      <td>0.465686</td>\n",
              "      <td>0.417331</td>\n",
              "      <td>0.389610</td>\n",
              "      <td>0.282087</td>\n",
              "      <td>0.362385</td>\n",
              "      <td>0.333333</td>\n",
              "      <td>0.342679</td>\n",
              "    </tr>\n",
              "  </tbody>\n",
              "</table>\n",
              "</div>"
            ],
            "text/plain": [
              "        BMI        BP        S1  ...        S5        S6         Y\n",
              "0  0.582645  0.549296  0.294118  ...  0.562217  0.439394  0.392523\n",
              "1  0.148760  0.352113  0.421569  ...  0.222437  0.166667  0.155763\n",
              "2  0.516529  0.436620  0.289216  ...  0.496578  0.409091  0.361371\n",
              "3  0.301653  0.309859  0.495098  ...  0.572923  0.469697  0.563863\n",
              "4  0.206612  0.549296  0.465686  ...  0.362385  0.333333  0.342679\n",
              "\n",
              "[5 rows x 9 columns]"
            ]
          },
          "metadata": {},
          "execution_count": 16
        }
      ]
    },
    {
      "cell_type": "markdown",
      "metadata": {
        "id": "04KU0eM3RuSY"
      },
      "source": [
        "### Combine all data"
      ]
    },
    {
      "cell_type": "code",
      "metadata": {
        "id": "rOdjU5CpRuSZ",
        "outputId": "18c3aab3-c299-4187-cd48-e43aceab1775",
        "colab": {
          "base_uri": "https://localhost:8080/",
          "height": 162
        }
      },
      "source": [
        "df = pd.concat([age, gender, df_scaled], axis=1)"
      ],
      "execution_count": 17,
      "outputs": [
        {
          "output_type": "error",
          "ename": "NameError",
          "evalue": "ignored",
          "traceback": [
            "\u001b[0;31m---------------------------------------------------------------------------\u001b[0m",
            "\u001b[0;31mNameError\u001b[0m                                 Traceback (most recent call last)",
            "\u001b[0;32m<ipython-input-17-0f55803039cd>\u001b[0m in \u001b[0;36m<module>\u001b[0;34m()\u001b[0m\n\u001b[0;32m----> 1\u001b[0;31m \u001b[0mdf\u001b[0m \u001b[0;34m=\u001b[0m \u001b[0mpd\u001b[0m\u001b[0;34m.\u001b[0m\u001b[0mconcat\u001b[0m\u001b[0;34m(\u001b[0m\u001b[0;34m[\u001b[0m\u001b[0mage\u001b[0m\u001b[0;34m,\u001b[0m \u001b[0mgender\u001b[0m\u001b[0;34m,\u001b[0m \u001b[0mdf_scaled\u001b[0m\u001b[0;34m]\u001b[0m\u001b[0;34m,\u001b[0m \u001b[0maxis\u001b[0m\u001b[0;34m=\u001b[0m\u001b[0;36m1\u001b[0m\u001b[0;34m)\u001b[0m\u001b[0;34m\u001b[0m\u001b[0;34m\u001b[0m\u001b[0m\n\u001b[0m",
            "\u001b[0;31mNameError\u001b[0m: name 'gender' is not defined"
          ]
        }
      ]
    },
    {
      "cell_type": "code",
      "metadata": {
        "id": "Q5EAOnUTRuSZ"
      },
      "source": [
        "df.head()"
      ],
      "execution_count": null,
      "outputs": []
    },
    {
      "cell_type": "markdown",
      "metadata": {
        "id": "D712jtddRuSa"
      },
      "source": [
        "## Summary of Data Preparation\n",
        "- Change continuous variable to ordinal variable\n",
        "\n",
        "We convert age into age groups and give them labels\n",
        "\n",
        "- One-hot encoding\n",
        "\n",
        "Both age and gender are converted to one-hot encoding. \n",
        "\n",
        "- Normalize data\n",
        "\n",
        "Other data are scaled using the sklearn min-max algorithm which normalizes according to the minimum and maximum data\n",
        "\n",
        "Now, the data is ready for training"
      ]
    },
    {
      "cell_type": "code",
      "metadata": {
        "id": "Wf92uhl_RuSa"
      },
      "source": [
        "# Split data and target\n",
        "data = df.drop([\"Y\"], axis=1)\n",
        "target = df[\"Y\"]"
      ],
      "execution_count": null,
      "outputs": []
    },
    {
      "cell_type": "code",
      "metadata": {
        "id": "V0F7sI6jRuSb"
      },
      "source": [
        "data = data.astype(dtype=np.float32)\n",
        "target = target.astype(dtype=np.float32)"
      ],
      "execution_count": null,
      "outputs": []
    },
    {
      "cell_type": "code",
      "metadata": {
        "id": "07OyQwpNRuSb"
      },
      "source": [
        "X_train, X_test, y_train, y_test = train_test_split(data, target, test_size=0.3, random_state=123)"
      ],
      "execution_count": null,
      "outputs": []
    },
    {
      "cell_type": "markdown",
      "metadata": {
        "id": "GEHcaqPyRuSc"
      },
      "source": [
        "## Train model"
      ]
    },
    {
      "cell_type": "code",
      "metadata": {
        "id": "s6V57rnIRuSc"
      },
      "source": [
        "model = LinearRegression()"
      ],
      "execution_count": 20,
      "outputs": []
    },
    {
      "cell_type": "markdown",
      "metadata": {
        "id": "L-s5QhIdRuSd"
      },
      "source": [
        "perform training"
      ]
    },
    {
      "cell_type": "code",
      "metadata": {
        "id": "qQEC9WJhRuSd"
      },
      "source": [
        "model.fit(X_train, y_train)"
      ],
      "execution_count": null,
      "outputs": []
    },
    {
      "cell_type": "markdown",
      "metadata": {
        "id": "aAmL6RtNRuSd"
      },
      "source": [
        "## Evaluate"
      ]
    },
    {
      "cell_type": "markdown",
      "metadata": {
        "id": "Asq9ff_RRuSe"
      },
      "source": [
        "### Train Error\n",
        "Evaluate model using train data"
      ]
    },
    {
      "cell_type": "code",
      "metadata": {
        "id": "-6kZEBbgRuSe"
      },
      "source": [
        "predictions = model.predict(X_train)"
      ],
      "execution_count": null,
      "outputs": []
    },
    {
      "cell_type": "code",
      "metadata": {
        "id": "49TY1vTmRuSe"
      },
      "source": [
        "print('MAE:', metrics.mean_absolute_error(y_train, predictions))\n",
        "print('MSE:', metrics.mean_squared_error(y_train, predictions))\n",
        "print('RMSE:', np.sqrt(metrics.mean_squared_error(y_train, predictions)))"
      ],
      "execution_count": null,
      "outputs": []
    },
    {
      "cell_type": "markdown",
      "metadata": {
        "id": "6l6LVPzZRuSe"
      },
      "source": [
        "### Test Error\n",
        "Evaluate model using test data"
      ]
    },
    {
      "cell_type": "code",
      "metadata": {
        "id": "R3YffpyCRuSf"
      },
      "source": [
        "predictions = model.predict(X_test)"
      ],
      "execution_count": null,
      "outputs": []
    },
    {
      "cell_type": "code",
      "metadata": {
        "id": "gE4F94iVRuSf"
      },
      "source": [
        "print('MAE:', metrics.mean_absolute_error(y_test, predictions))\n",
        "print('MSE:', metrics.mean_squared_error(y_test, predictions))\n",
        "print('RMSE:', np.sqrt(metrics.mean_squared_error(y_test, predictions)))"
      ],
      "execution_count": null,
      "outputs": []
    },
    {
      "cell_type": "markdown",
      "metadata": {
        "id": "y0Jr3d5lRuSf"
      },
      "source": [
        "# Model evaluation\n",
        "Evaluation is done to monitor the performance of the trained model. The performance shows how well the model learns the data. \n",
        "\n",
        "There are three conditions to monitor\n",
        "\n",
        "### Underfitting\n",
        "In this condition, the model has not learned enough about training data. A simple example is using a straight line to model non-linear data. The line will not be able to describe the data.\n",
        "\n",
        "In the case of regression, underfitting is when the training and testing errors are large.\n",
        "\n",
        "### Overfitting\n",
        "In this condition, the model has learned too much training data, which consists of good data and noise. In other words, the model \"memorise\" the data. This condition is undesirable as noise is not what we want the model to learn. It will perform well on training data but not unseen data.\n",
        "\n",
        "In the case of regression, overfitting is when the training error is very low, and the test error is large.\n",
        "\n",
        "### Generalize well\n",
        "This is the desired condition for a model. It shows that the model can learn the training data and perform good predictions for the testing data.\n",
        "\n",
        "__In this example, both training and testing errors are low, which shows that the model generalizes the data well.__"
      ]
    }
  ]
}