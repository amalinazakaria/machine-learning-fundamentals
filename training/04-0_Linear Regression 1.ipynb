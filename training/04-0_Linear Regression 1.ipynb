{
  "nbformat": 4,
  "nbformat_minor": 0,
  "metadata": {
    "kernelspec": {
      "display_name": "Python 3",
      "language": "python",
      "name": "python3"
    },
    "language_info": {
      "codemirror_mode": {
        "name": "ipython",
        "version": 3
      },
      "file_extension": ".py",
      "mimetype": "text/x-python",
      "name": "python",
      "nbconvert_exporter": "python",
      "pygments_lexer": "ipython3",
      "version": "3.8.3"
    },
    "colab": {
      "name": "04-0_Linear Regression 1.ipynb",
      "provenance": []
    }
  },
  "cells": [
    {
      "cell_type": "code",
      "metadata": {
        "deletable": false,
        "editable": false,
        "id": "WeUFD8mY9drU"
      },
      "source": [
        "# Copyright (c) 2020-2021 CertifAI Sdn. Bhd.\n",
        "# \n",
        "# This program is part of OSRFramework. You can redistribute it and/or modify\n",
        "# it under the terms of the GNU Affero General Public License as published by\n",
        "# the Free Software Foundation, either version 3 of the License, or\n",
        "# (at your option) any later version.\n",
        "# \n",
        "# This program is distributed in the hope that it will be useful,\n",
        "# but WITHOUT ANY WARRANTY; without even the implied warranty of\n",
        "# MERCHANTABILITY or FITNESS FOR A PARTICULAR PURPOSE.  See the\n",
        "# GNU Affero General Public License for more details.\n",
        "# \n",
        "# You should have received a copy of the GNU Affero General Public License\n",
        "# along with this program.  If not, see <http://www.gnu.org/licenses/>."
      ],
      "execution_count": 1,
      "outputs": []
    },
    {
      "cell_type": "markdown",
      "metadata": {
        "id": "T0e0Y-H49drg"
      },
      "source": [
        "# Predict house price using Linear Regression"
      ]
    },
    {
      "cell_type": "markdown",
      "metadata": {
        "id": "xjN3_vnw9drk"
      },
      "source": [
        "## 1 - Import necessary packages\n",
        "\n",
        "Let's first import all the packages that you will need during this assignment.\n",
        "\n",
        "- **numpy** is the main package for scientific computing with Python.\n",
        "- **matplotlib** is a library to plot graphs in Python.\n",
        "- **sklearn** features various algorithms of machine learning in Python.\n",
        "- **pandas** is a high-level data manipulation tool in Python."
      ]
    },
    {
      "cell_type": "code",
      "metadata": {
        "id": "yYsQ8WMb9drl"
      },
      "source": [
        "import numpy as np\n",
        "from sklearn import datasets\n",
        "from sklearn import model_selection\n",
        "from sklearn import metrics\n",
        "from sklearn.model_selection import train_test_split\n",
        "from sklearn.linear_model import LinearRegression\n",
        "import pandas as pd\n",
        "\n",
        "import matplotlib.pyplot as plt\n",
        "%matplotlib inline"
      ],
      "execution_count": 2,
      "outputs": []
    },
    {
      "cell_type": "markdown",
      "metadata": {
        "id": "uEJoWs9Q9drn"
      },
      "source": [
        "## 2 - Load dataset\n",
        "\n",
        "Let's load our sample dataset which is provided by sklearn."
      ]
    },
    {
      "cell_type": "code",
      "metadata": {
        "id": "g7WhgbVx9drn"
      },
      "source": [
        "bhouse = datasets.load_boston()"
      ],
      "execution_count": 3,
      "outputs": []
    },
    {
      "cell_type": "markdown",
      "metadata": {
        "id": "n9MIqod09dro"
      },
      "source": [
        "`dir()` method tries to return a list of valid attributes of the object."
      ]
    },
    {
      "cell_type": "code",
      "metadata": {
        "colab": {
          "base_uri": "https://localhost:8080/"
        },
        "id": "0YKhOsM79drp",
        "outputId": "89365994-2b11-4f04-e367-da27f6721974"
      },
      "source": [
        "dir(bhouse)"
      ],
      "execution_count": 4,
      "outputs": [
        {
          "output_type": "execute_result",
          "data": {
            "text/plain": [
              "['DESCR', 'data', 'feature_names', 'filename', 'target']"
            ]
          },
          "metadata": {},
          "execution_count": 4
        }
      ]
    },
    {
      "cell_type": "markdown",
      "metadata": {
        "id": "IXZGnyFb9drr"
      },
      "source": [
        "**DESCR**: str\n",
        "<br>\n",
        "The full description of the dataset.\n",
        "\n",
        "**data**: ndarray of shape\n",
        "<br>\n",
        "The data matrix.\n",
        "\n",
        "**feature_names**: ndarray\n",
        "<br>\n",
        "The names of the features.\n",
        "\n",
        "**filename**: str\n",
        "<br>\n",
        "The physical location of boston csv dataset.\n",
        "\n",
        "**target**: ndarray of shape\n",
        "<br>\n",
        "The regression target."
      ]
    },
    {
      "cell_type": "markdown",
      "metadata": {
        "id": "WuSCc1QR9drs"
      },
      "source": [
        "Check the number of data."
      ]
    },
    {
      "cell_type": "code",
      "metadata": {
        "colab": {
          "base_uri": "https://localhost:8080/"
        },
        "id": "2_tc-43i9drt",
        "outputId": "b5f13dd8-4d7e-45d9-b021-3b680b5bef12"
      },
      "source": [
        "bhouse.target.shape"
      ],
      "execution_count": 5,
      "outputs": [
        {
          "output_type": "execute_result",
          "data": {
            "text/plain": [
              "(506,)"
            ]
          },
          "metadata": {},
          "execution_count": 5
        }
      ]
    },
    {
      "cell_type": "markdown",
      "metadata": {
        "id": "8An75WJX9dru"
      },
      "source": [
        "Check feature names"
      ]
    },
    {
      "cell_type": "code",
      "metadata": {
        "colab": {
          "base_uri": "https://localhost:8080/"
        },
        "id": "XQI0BzCu9drv",
        "outputId": "f1d1e8dd-fe6b-40f5-b555-8a41a62ead70"
      },
      "source": [
        "# TODO: Replace {} with your solution to check feature names\n",
        "bhouse.feature_names"
      ],
      "execution_count": 7,
      "outputs": [
        {
          "output_type": "execute_result",
          "data": {
            "text/plain": [
              "array(['CRIM', 'ZN', 'INDUS', 'CHAS', 'NOX', 'RM', 'AGE', 'DIS', 'RAD',\n",
              "       'TAX', 'PTRATIO', 'B', 'LSTAT'], dtype='<U7')"
            ]
          },
          "metadata": {},
          "execution_count": 7
        }
      ]
    },
    {
      "cell_type": "markdown",
      "metadata": {
        "id": "BIAFQS8f9drw"
      },
      "source": [
        "Load features and targets"
      ]
    },
    {
      "cell_type": "code",
      "metadata": {
        "colab": {
          "base_uri": "https://localhost:8080/"
        },
        "id": "WmUtEpW19drx",
        "outputId": "b1d92d02-a2b1-4c60-b895-cd4f8364fa3e"
      },
      "source": [
        "# TODO: Replace {} with your solution to load features to \"data\"\n",
        "data = bhouse.data.astype(np.float32)\n",
        "data \n",
        "\n",
        "# TODO: Replace {} with your solution to load targets to \"target\"\n",
        "target = bhouse.target.astype(np.float32)\n",
        "target"
      ],
      "execution_count": 17,
      "outputs": [
        {
          "output_type": "execute_result",
          "data": {
            "text/plain": [
              "array([24. , 21.6, 34.7, 33.4, 36.2, 28.7, 22.9, 27.1, 16.5, 18.9, 15. ,\n",
              "       18.9, 21.7, 20.4, 18.2, 19.9, 23.1, 17.5, 20.2, 18.2, 13.6, 19.6,\n",
              "       15.2, 14.5, 15.6, 13.9, 16.6, 14.8, 18.4, 21. , 12.7, 14.5, 13.2,\n",
              "       13.1, 13.5, 18.9, 20. , 21. , 24.7, 30.8, 34.9, 26.6, 25.3, 24.7,\n",
              "       21.2, 19.3, 20. , 16.6, 14.4, 19.4, 19.7, 20.5, 25. , 23.4, 18.9,\n",
              "       35.4, 24.7, 31.6, 23.3, 19.6, 18.7, 16. , 22.2, 25. , 33. , 23.5,\n",
              "       19.4, 22. , 17.4, 20.9, 24.2, 21.7, 22.8, 23.4, 24.1, 21.4, 20. ,\n",
              "       20.8, 21.2, 20.3, 28. , 23.9, 24.8, 22.9, 23.9, 26.6, 22.5, 22.2,\n",
              "       23.6, 28.7, 22.6, 22. , 22.9, 25. , 20.6, 28.4, 21.4, 38.7, 43.8,\n",
              "       33.2, 27.5, 26.5, 18.6, 19.3, 20.1, 19.5, 19.5, 20.4, 19.8, 19.4,\n",
              "       21.7, 22.8, 18.8, 18.7, 18.5, 18.3, 21.2, 19.2, 20.4, 19.3, 22. ,\n",
              "       20.3, 20.5, 17.3, 18.8, 21.4, 15.7, 16.2, 18. , 14.3, 19.2, 19.6,\n",
              "       23. , 18.4, 15.6, 18.1, 17.4, 17.1, 13.3, 17.8, 14. , 14.4, 13.4,\n",
              "       15.6, 11.8, 13.8, 15.6, 14.6, 17.8, 15.4, 21.5, 19.6, 15.3, 19.4,\n",
              "       17. , 15.6, 13.1, 41.3, 24.3, 23.3, 27. , 50. , 50. , 50. , 22.7,\n",
              "       25. , 50. , 23.8, 23.8, 22.3, 17.4, 19.1, 23.1, 23.6, 22.6, 29.4,\n",
              "       23.2, 24.6, 29.9, 37.2, 39.8, 36.2, 37.9, 32.5, 26.4, 29.6, 50. ,\n",
              "       32. , 29.8, 34.9, 37. , 30.5, 36.4, 31.1, 29.1, 50. , 33.3, 30.3,\n",
              "       34.6, 34.9, 32.9, 24.1, 42.3, 48.5, 50. , 22.6, 24.4, 22.5, 24.4,\n",
              "       20. , 21.7, 19.3, 22.4, 28.1, 23.7, 25. , 23.3, 28.7, 21.5, 23. ,\n",
              "       26.7, 21.7, 27.5, 30.1, 44.8, 50. , 37.6, 31.6, 46.7, 31.5, 24.3,\n",
              "       31.7, 41.7, 48.3, 29. , 24. , 25.1, 31.5, 23.7, 23.3, 22. , 20.1,\n",
              "       22.2, 23.7, 17.6, 18.5, 24.3, 20.5, 24.5, 26.2, 24.4, 24.8, 29.6,\n",
              "       42.8, 21.9, 20.9, 44. , 50. , 36. , 30.1, 33.8, 43.1, 48.8, 31. ,\n",
              "       36.5, 22.8, 30.7, 50. , 43.5, 20.7, 21.1, 25.2, 24.4, 35.2, 32.4,\n",
              "       32. , 33.2, 33.1, 29.1, 35.1, 45.4, 35.4, 46. , 50. , 32.2, 22. ,\n",
              "       20.1, 23.2, 22.3, 24.8, 28.5, 37.3, 27.9, 23.9, 21.7, 28.6, 27.1,\n",
              "       20.3, 22.5, 29. , 24.8, 22. , 26.4, 33.1, 36.1, 28.4, 33.4, 28.2,\n",
              "       22.8, 20.3, 16.1, 22.1, 19.4, 21.6, 23.8, 16.2, 17.8, 19.8, 23.1,\n",
              "       21. , 23.8, 23.1, 20.4, 18.5, 25. , 24.6, 23. , 22.2, 19.3, 22.6,\n",
              "       19.8, 17.1, 19.4, 22.2, 20.7, 21.1, 19.5, 18.5, 20.6, 19. , 18.7,\n",
              "       32.7, 16.5, 23.9, 31.2, 17.5, 17.2, 23.1, 24.5, 26.6, 22.9, 24.1,\n",
              "       18.6, 30.1, 18.2, 20.6, 17.8, 21.7, 22.7, 22.6, 25. , 19.9, 20.8,\n",
              "       16.8, 21.9, 27.5, 21.9, 23.1, 50. , 50. , 50. , 50. , 50. , 13.8,\n",
              "       13.8, 15. , 13.9, 13.3, 13.1, 10.2, 10.4, 10.9, 11.3, 12.3,  8.8,\n",
              "        7.2, 10.5,  7.4, 10.2, 11.5, 15.1, 23.2,  9.7, 13.8, 12.7, 13.1,\n",
              "       12.5,  8.5,  5. ,  6.3,  5.6,  7.2, 12.1,  8.3,  8.5,  5. , 11.9,\n",
              "       27.9, 17.2, 27.5, 15. , 17.2, 17.9, 16.3,  7. ,  7.2,  7.5, 10.4,\n",
              "        8.8,  8.4, 16.7, 14.2, 20.8, 13.4, 11.7,  8.3, 10.2, 10.9, 11. ,\n",
              "        9.5, 14.5, 14.1, 16.1, 14.3, 11.7, 13.4,  9.6,  8.7,  8.4, 12.8,\n",
              "       10.5, 17.1, 18.4, 15.4, 10.8, 11.8, 14.9, 12.6, 14.1, 13. , 13.4,\n",
              "       15.2, 16.1, 17.8, 14.9, 14.1, 12.7, 13.5, 14.9, 20. , 16.4, 17.7,\n",
              "       19.5, 20.2, 21.4, 19.9, 19. , 19.1, 19.1, 20.1, 19.9, 19.6, 23.2,\n",
              "       29.8, 13.8, 13.3, 16.7, 12. , 14.6, 21.4, 23. , 23.7, 25. , 21.8,\n",
              "       20.6, 21.2, 19.1, 20.6, 15.2,  7. ,  8.1, 13.6, 20.1, 21.8, 24.5,\n",
              "       23.1, 19.7, 18.3, 21.2, 17.5, 16.8, 22.4, 20.6, 23.9, 22. , 11.9],\n",
              "      dtype=float32)"
            ]
          },
          "metadata": {},
          "execution_count": 17
        }
      ]
    },
    {
      "cell_type": "markdown",
      "metadata": {
        "id": "sMYNr3TJ9drx"
      },
      "source": [
        "Split the dataset"
      ]
    },
    {
      "cell_type": "code",
      "metadata": {
        "id": "UgKaFqkp9dry"
      },
      "source": [
        "# TODO: Replace {} with your solution to split the dataset into training and testing subset with ratio 7:3\n",
        "X_train, X_test, y_train, y_test = train_test_split(data, target, test_size=0.3, random_state=123)"
      ],
      "execution_count": 53,
      "outputs": []
    },
    {
      "cell_type": "markdown",
      "metadata": {
        "id": "HFbSWWwh9drz"
      },
      "source": [
        "## 3 - Linear Regression"
      ]
    },
    {
      "cell_type": "markdown",
      "metadata": {
        "id": "wj4L5bEI9drz"
      },
      "source": [
        "Load linear regression model"
      ]
    },
    {
      "cell_type": "code",
      "metadata": {
        "id": "xKekGyBR9dr0"
      },
      "source": [
        "# TODO: Replace {} with your solution to Load Linear Regression Model\n",
        "model = LinearRegression()"
      ],
      "execution_count": 52,
      "outputs": []
    },
    {
      "cell_type": "markdown",
      "metadata": {
        "id": "66FRPF9l9dr1"
      },
      "source": [
        "Fit the model with training data"
      ]
    },
    {
      "cell_type": "code",
      "metadata": {
        "colab": {
          "base_uri": "https://localhost:8080/"
        },
        "id": "r5HYIM3O9dr1",
        "outputId": "5bb3ba60-0dbc-4ab0-f0e1-0b5feb0a03c5"
      },
      "source": [
        "# TODO: Replace {} with your solution to fit the training data into the model\n",
        "model.fit(X_train, y_train)"
      ],
      "execution_count": 54,
      "outputs": [
        {
          "output_type": "execute_result",
          "data": {
            "text/plain": [
              "LinearRegression(copy_X=True, fit_intercept=True, n_jobs=None, normalize=False)"
            ]
          },
          "metadata": {},
          "execution_count": 54
        }
      ]
    },
    {
      "cell_type": "markdown",
      "metadata": {
        "id": "UXhkWwT49dr2"
      },
      "source": [
        "Print out the coefficients.\n",
        "- A positive coefficient means as the value of the independent variable increases, the dependent variable also tends to increase. \n",
        "- A negative coefficient means as the value of the independent variable increases, the dependent variable tends to decrease."
      ]
    },
    {
      "cell_type": "code",
      "metadata": {
        "scrolled": true,
        "colab": {
          "base_uri": "https://localhost:8080/"
        },
        "id": "74gVDazj9dr3",
        "outputId": "16253356-bd41-4a42-bba9-1a594129d0fe"
      },
      "source": [
        "# TODO: Replace {} with your solution to print out the coefficients.\n",
        "print(model.coef_)"
      ],
      "execution_count": 49,
      "outputs": [
        {
          "output_type": "stream",
          "name": "stdout",
          "text": [
            "[  257.62272587   348.42551047   477.34190109   -93.4282951\n",
            " 23723.59954356  -561.18757618 -1068.61868575 -1126.05105924]\n"
          ]
        }
      ]
    },
    {
      "cell_type": "markdown",
      "metadata": {
        "id": "CUpkSuvc9dr3"
      },
      "source": [
        "> The coefficients are the weights."
      ]
    },
    {
      "cell_type": "code",
      "metadata": {
        "scrolled": true,
        "colab": {
          "base_uri": "https://localhost:8080/"
        },
        "id": "L9Fk9JFT9dr3",
        "outputId": "1bd4575e-2443-4c40-f33a-af041759c54e"
      },
      "source": [
        "print(len(model.coef_))"
      ],
      "execution_count": 50,
      "outputs": [
        {
          "output_type": "stream",
          "name": "stdout",
          "text": [
            "8\n"
          ]
        }
      ]
    },
    {
      "cell_type": "markdown",
      "metadata": {
        "id": "MScY2y1r9dr4"
      },
      "source": [
        "> There are 13 coefficients because there are 13 columns of features."
      ]
    },
    {
      "cell_type": "markdown",
      "metadata": {
        "id": "rk7EQIW69dr4"
      },
      "source": [
        "Print out the intercept."
      ]
    },
    {
      "cell_type": "code",
      "metadata": {
        "scrolled": true,
        "id": "fS75SmCZ9dr4"
      },
      "source": [
        "# TODO: Replace {} with your solution to print out the intercept\n",
        "print(model.intercept_)"
      ],
      "execution_count": null,
      "outputs": []
    },
    {
      "cell_type": "markdown",
      "metadata": {
        "id": "_fCu72Wa9dr4"
      },
      "source": [
        "> The intercept of the equation is also the bias."
      ]
    },
    {
      "cell_type": "markdown",
      "metadata": {
        "id": "qWup96-S9dr4"
      },
      "source": [
        "## 4 - Predict using the model"
      ]
    },
    {
      "cell_type": "markdown",
      "metadata": {
        "id": "21KgyaK09dr5"
      },
      "source": [
        "Predict the results by using the trained model"
      ]
    },
    {
      "cell_type": "code",
      "metadata": {
        "id": "Vjmuzgn59dr5"
      },
      "source": [
        "# TODO: Replace {} with your solution to predict the result using the traiined model\n",
        "# Input data is the test dataset.\n",
        "predictions = model.predict(X_test)"
      ],
      "execution_count": 57,
      "outputs": []
    },
    {
      "cell_type": "markdown",
      "metadata": {
        "id": "9y8-w8SK9dr5"
      },
      "source": [
        "Plot the result."
      ]
    },
    {
      "cell_type": "code",
      "metadata": {
        "colab": {
          "base_uri": "https://localhost:8080/",
          "height": 296
        },
        "id": "M5fnxngj9dr5",
        "outputId": "3711c6d2-08f6-403b-c3ea-ea6fa2ab20cc"
      },
      "source": [
        "plt.scatter(y_test, predictions)\n",
        "plt.xlabel('Y Test')\n",
        "plt.ylabel('Predicted Y')"
      ],
      "execution_count": 58,
      "outputs": [
        {
          "output_type": "execute_result",
          "data": {
            "text/plain": [
              "Text(0, 0.5, 'Predicted Y')"
            ]
          },
          "metadata": {},
          "execution_count": 58
        },
        {
          "output_type": "display_data",
          "data": {
            "image/png": "[encoded data removed]",
            "text/plain": [
              "<Figure size 432x288 with 1 Axes>"
            ]
          },
          "metadata": {
            "needs_background": "light"
          }
        }
      ]
    },
    {
      "cell_type": "markdown",
      "metadata": {
        "id": "kPCK-J4o9dr5"
      },
      "source": [
        "## 5 - Evaluating the model"
      ]
    },
    {
      "cell_type": "markdown",
      "metadata": {
        "id": "iE_En7CF9dr6"
      },
      "source": [
        "RMSE, MSE and MAE are the common metrics used to evaluate a regression model.\n",
        "- MAE : Mean absolute error regression loss\n",
        "- MSE : Mean squared error regression loss\n",
        "- RMSE : Square root of Mean squared error regression loss"
      ]
    },
    {
      "cell_type": "markdown",
      "metadata": {
        "id": "1svP-Xx19dr6"
      },
      "source": [
        "Print out the MAE, MSE and RMSE."
      ]
    },
    {
      "cell_type": "code",
      "metadata": {
        "colab": {
          "base_uri": "https://localhost:8080/"
        },
        "id": "-83d05lO9dr6",
        "outputId": "4d987041-9198-4657-f272-5639523dd4f1"
      },
      "source": [
        "# TODO: Replace {} with your solution to print out MAE\n",
        "print('MAE:', metrics.mean_absolute_error(y_test, predictions))\n",
        "\n",
        "# TODO: Replace {} with your solution to print out MSE\n",
        "print('MSE:', metrics.mean_squared_error(y_test, predictions))\n",
        "\n",
        "# TODO: Replace {} with your solution to print out RMSE\n",
        "print('RMSE:', np.sqrt(metrics.mean_squared_error(y_test, predictions)))"
      ],
      "execution_count": 48,
      "outputs": [
        {
          "output_type": "stream",
          "name": "stdout",
          "text": [
            "MAE: 4196.201114655029\n",
            "MSE: 33892347.11869649\n",
            "RMSE: 5821.713417774572\n"
          ]
        }
      ]
    },
    {
      "cell_type": "markdown",
      "metadata": {
        "id": "7J0ER2J69dr7"
      },
      "source": [
        "# Exercise: Predict medical cost"
      ]
    },
    {
      "cell_type": "markdown",
      "metadata": {
        "id": "on8OOa_19dr7"
      },
      "source": [
        "> Dataset from Kaggle: [Medical Cost Personal Datasets](https://www.kaggle.com/mirichoi0218/insurance/notebooks)"
      ]
    },
    {
      "cell_type": "markdown",
      "metadata": {
        "id": "-5MW1lWh9dr7"
      },
      "source": [
        "## 1 - Load Dataset"
      ]
    },
    {
      "cell_type": "code",
      "metadata": {
        "colab": {
          "base_uri": "https://localhost:8080/",
          "height": 357
        },
        "id": "tGI6M2_q9dr7",
        "outputId": "8b7f68ec-9cdc-41dd-e4c9-a8cc3337034b"
      },
      "source": [
        "df = pd.read_csv(\"/content/sample_data/insurance.csv\")\n",
        "df.head(10)"
      ],
      "execution_count": 10,
      "outputs": [
        {
          "output_type": "execute_result",
          "data": {
            "text/html": [
              "<div>\n",
              "<style scoped>\n",
              "    .dataframe tbody tr th:only-of-type {\n",
              "        vertical-align: middle;\n",
              "    }\n",
              "\n",
              "    .dataframe tbody tr th {\n",
              "        vertical-align: top;\n",
              "    }\n",
              "\n",
              "    .dataframe thead th {\n",
              "        text-align: right;\n",
              "    }\n",
              "</style>\n",
              "<table border=\"1\" class=\"dataframe\">\n",
              "  <thead>\n",
              "    <tr style=\"text-align: right;\">\n",
              "      <th></th>\n",
              "      <th>age</th>\n",
              "      <th>sex</th>\n",
              "      <th>bmi</th>\n",
              "      <th>children</th>\n",
              "      <th>smoker</th>\n",
              "      <th>region</th>\n",
              "      <th>charges</th>\n",
              "    </tr>\n",
              "  </thead>\n",
              "  <tbody>\n",
              "    <tr>\n",
              "      <th>0</th>\n",
              "      <td>19</td>\n",
              "      <td>female</td>\n",
              "      <td>27.900</td>\n",
              "      <td>0</td>\n",
              "      <td>yes</td>\n",
              "      <td>southwest</td>\n",
              "      <td>16884.92400</td>\n",
              "    </tr>\n",
              "    <tr>\n",
              "      <th>1</th>\n",
              "      <td>18</td>\n",
              "      <td>male</td>\n",
              "      <td>33.770</td>\n",
              "      <td>1</td>\n",
              "      <td>no</td>\n",
              "      <td>southeast</td>\n",
              "      <td>1725.55230</td>\n",
              "    </tr>\n",
              "    <tr>\n",
              "      <th>2</th>\n",
              "      <td>28</td>\n",
              "      <td>male</td>\n",
              "      <td>33.000</td>\n",
              "      <td>3</td>\n",
              "      <td>no</td>\n",
              "      <td>southeast</td>\n",
              "      <td>4449.46200</td>\n",
              "    </tr>\n",
              "    <tr>\n",
              "      <th>3</th>\n",
              "      <td>33</td>\n",
              "      <td>male</td>\n",
              "      <td>22.705</td>\n",
              "      <td>0</td>\n",
              "      <td>no</td>\n",
              "      <td>northwest</td>\n",
              "      <td>21984.47061</td>\n",
              "    </tr>\n",
              "    <tr>\n",
              "      <th>4</th>\n",
              "      <td>32</td>\n",
              "      <td>male</td>\n",
              "      <td>28.880</td>\n",
              "      <td>0</td>\n",
              "      <td>no</td>\n",
              "      <td>northwest</td>\n",
              "      <td>3866.85520</td>\n",
              "    </tr>\n",
              "    <tr>\n",
              "      <th>5</th>\n",
              "      <td>31</td>\n",
              "      <td>female</td>\n",
              "      <td>25.740</td>\n",
              "      <td>0</td>\n",
              "      <td>no</td>\n",
              "      <td>southeast</td>\n",
              "      <td>3756.62160</td>\n",
              "    </tr>\n",
              "    <tr>\n",
              "      <th>6</th>\n",
              "      <td>46</td>\n",
              "      <td>female</td>\n",
              "      <td>33.440</td>\n",
              "      <td>1</td>\n",
              "      <td>no</td>\n",
              "      <td>southeast</td>\n",
              "      <td>8240.58960</td>\n",
              "    </tr>\n",
              "    <tr>\n",
              "      <th>7</th>\n",
              "      <td>37</td>\n",
              "      <td>female</td>\n",
              "      <td>27.740</td>\n",
              "      <td>3</td>\n",
              "      <td>no</td>\n",
              "      <td>northwest</td>\n",
              "      <td>7281.50560</td>\n",
              "    </tr>\n",
              "    <tr>\n",
              "      <th>8</th>\n",
              "      <td>37</td>\n",
              "      <td>male</td>\n",
              "      <td>29.830</td>\n",
              "      <td>2</td>\n",
              "      <td>no</td>\n",
              "      <td>northeast</td>\n",
              "      <td>6406.41070</td>\n",
              "    </tr>\n",
              "    <tr>\n",
              "      <th>9</th>\n",
              "      <td>60</td>\n",
              "      <td>female</td>\n",
              "      <td>25.840</td>\n",
              "      <td>0</td>\n",
              "      <td>no</td>\n",
              "      <td>northwest</td>\n",
              "      <td>28923.13692</td>\n",
              "    </tr>\n",
              "  </tbody>\n",
              "</table>\n",
              "</div>"
            ],
            "text/plain": [
              "   age     sex     bmi  children smoker     region      charges\n",
              "0   19  female  27.900         0    yes  southwest  16884.92400\n",
              "1   18    male  33.770         1     no  southeast   1725.55230\n",
              "2   28    male  33.000         3     no  southeast   4449.46200\n",
              "3   33    male  22.705         0     no  northwest  21984.47061\n",
              "4   32    male  28.880         0     no  northwest   3866.85520\n",
              "5   31  female  25.740         0     no  southeast   3756.62160\n",
              "6   46  female  33.440         1     no  southeast   8240.58960\n",
              "7   37  female  27.740         3     no  northwest   7281.50560\n",
              "8   37    male  29.830         2     no  northeast   6406.41070\n",
              "9   60  female  25.840         0     no  northwest  28923.13692"
            ]
          },
          "metadata": {},
          "execution_count": 10
        }
      ]
    },
    {
      "cell_type": "code",
      "metadata": {
        "colab": {
          "base_uri": "https://localhost:8080/"
        },
        "id": "ztpSlENP9dr8",
        "outputId": "17413bc8-8cf3-43d7-def2-3ca43e83501b"
      },
      "source": [
        "# TODO: Replace {} with your solution to check the shape of the dataset\n",
        "df.shape"
      ],
      "execution_count": 11,
      "outputs": [
        {
          "output_type": "execute_result",
          "data": {
            "text/plain": [
              "(1338, 7)"
            ]
          },
          "metadata": {},
          "execution_count": 11
        }
      ]
    },
    {
      "cell_type": "markdown",
      "metadata": {
        "id": "xJ3pHDjf9dr8"
      },
      "source": [
        "> This dataset has 1338 examples with 7 features"
      ]
    },
    {
      "cell_type": "markdown",
      "metadata": {
        "id": "t9hTU8Ti9dr8"
      },
      "source": [
        "Make sure the dataset has no null value."
      ]
    },
    {
      "cell_type": "code",
      "metadata": {
        "colab": {
          "base_uri": "https://localhost:8080/"
        },
        "id": "bYzHo2rs9dr9",
        "outputId": "cdecb483-2abe-45d6-b3c2-0c0f802224e2"
      },
      "source": [
        "# TODO: Replace {} with your solution to check whether the dataset contains null value\n",
        "df.isnull().sum()"
      ],
      "execution_count": 13,
      "outputs": [
        {
          "output_type": "execute_result",
          "data": {
            "text/plain": [
              "age         0\n",
              "sex         0\n",
              "bmi         0\n",
              "children    0\n",
              "smoker      0\n",
              "region      0\n",
              "charges     0\n",
              "dtype: int64"
            ]
          },
          "metadata": {},
          "execution_count": 13
        }
      ]
    },
    {
      "cell_type": "markdown",
      "metadata": {
        "id": "X1AsX7tc9dr9"
      },
      "source": [
        "Display the features and target."
      ]
    },
    {
      "cell_type": "code",
      "metadata": {
        "colab": {
          "base_uri": "https://localhost:8080/"
        },
        "id": "tTGoHHzZ9dr9",
        "outputId": "73500cd8-3b27-422b-86f5-00053392ee8f"
      },
      "source": [
        "df.columns"
      ],
      "execution_count": 27,
      "outputs": [
        {
          "output_type": "execute_result",
          "data": {
            "text/plain": [
              "Index(['age', 'bmi', 'children', 'charges', 'sex_male', 'smoker_yes',\n",
              "       'region_northwest', 'region_southeast', 'region_southwest'],\n",
              "      dtype='object')"
            ]
          },
          "metadata": {},
          "execution_count": 27
        }
      ]
    },
    {
      "cell_type": "code",
      "metadata": {
        "colab": {
          "base_uri": "https://localhost:8080/"
        },
        "id": "zLLsggs4FBvd",
        "outputId": "1f770659-b334-4714-91df-b23b87021f60"
      },
      "source": [
        "age = df.age.astype(np.float32)\n",
        "age"
      ],
      "execution_count": 28,
      "outputs": [
        {
          "output_type": "execute_result",
          "data": {
            "text/plain": [
              "0       19.0\n",
              "1       18.0\n",
              "2       28.0\n",
              "3       33.0\n",
              "4       32.0\n",
              "        ... \n",
              "1333    50.0\n",
              "1334    18.0\n",
              "1335    18.0\n",
              "1336    21.0\n",
              "1337    61.0\n",
              "Name: age, Length: 1338, dtype: float32"
            ]
          },
          "metadata": {},
          "execution_count": 28
        }
      ]
    },
    {
      "cell_type": "code",
      "metadata": {
        "colab": {
          "base_uri": "https://localhost:8080/"
        },
        "id": "JxFQNRAnFCPr",
        "outputId": "33f0f6cd-a98d-48d9-fa59-42359b1b43ab"
      },
      "source": [
        "charges = df.charges.astype(np.float32)\n",
        "charges"
      ],
      "execution_count": 29,
      "outputs": [
        {
          "output_type": "execute_result",
          "data": {
            "text/plain": [
              "0       16884.923828\n",
              "1        1725.552246\n",
              "2        4449.461914\n",
              "3       21984.470703\n",
              "4        3866.855225\n",
              "            ...     \n",
              "1333    10600.547852\n",
              "1334     2205.980713\n",
              "1335     1629.833496\n",
              "1336     2007.944946\n",
              "1337    29141.359375\n",
              "Name: charges, Length: 1338, dtype: float32"
            ]
          },
          "metadata": {},
          "execution_count": 29
        }
      ]
    },
    {
      "cell_type": "markdown",
      "metadata": {
        "id": "5q60msCd9dr-"
      },
      "source": [
        "Features:\n",
        "\n",
        "- age: age of the patient.\n",
        "- sex: sex of the patient.\n",
        "- bmi: bmi of the patient.\n",
        "- children: is the patient a child.\n",
        "- smoker: is the patient a smoker.\n",
        "- region: region where the patient lived.\n",
        "\n",
        "Target:\n",
        "\n",
        "- charges: medical cost charged on the patient."
      ]
    },
    {
      "cell_type": "markdown",
      "metadata": {
        "id": "6YR4w0A59dr-"
      },
      "source": [
        "Change categorical data into binary."
      ]
    },
    {
      "cell_type": "code",
      "metadata": {
        "colab": {
          "base_uri": "https://localhost:8080/",
          "height": 357
        },
        "id": "gq187EgJ9dr-",
        "outputId": "ea815814-8e8d-48d2-d6ab-4ee09213b132"
      },
      "source": [
        "dummies = pd.get_dummies(df[['sex', 'smoker', 'region']], drop_first=True) \n",
        "df.drop(['sex', 'smoker', 'region'], axis=1, inplace=True)\n",
        "df = pd.concat([df, dummies], axis=1)\n",
        "df.head(10)"
      ],
      "execution_count": 26,
      "outputs": [
        {
          "output_type": "execute_result",
          "data": {
            "text/html": [
              "<div>\n",
              "<style scoped>\n",
              "    .dataframe tbody tr th:only-of-type {\n",
              "        vertical-align: middle;\n",
              "    }\n",
              "\n",
              "    .dataframe tbody tr th {\n",
              "        vertical-align: top;\n",
              "    }\n",
              "\n",
              "    .dataframe thead th {\n",
              "        text-align: right;\n",
              "    }\n",
              "</style>\n",
              "<table border=\"1\" class=\"dataframe\">\n",
              "  <thead>\n",
              "    <tr style=\"text-align: right;\">\n",
              "      <th></th>\n",
              "      <th>age</th>\n",
              "      <th>bmi</th>\n",
              "      <th>children</th>\n",
              "      <th>charges</th>\n",
              "      <th>sex_male</th>\n",
              "      <th>smoker_yes</th>\n",
              "      <th>region_northwest</th>\n",
              "      <th>region_southeast</th>\n",
              "      <th>region_southwest</th>\n",
              "    </tr>\n",
              "  </thead>\n",
              "  <tbody>\n",
              "    <tr>\n",
              "      <th>0</th>\n",
              "      <td>19</td>\n",
              "      <td>27.900</td>\n",
              "      <td>0</td>\n",
              "      <td>16884.92400</td>\n",
              "      <td>0</td>\n",
              "      <td>1</td>\n",
              "      <td>0</td>\n",
              "      <td>0</td>\n",
              "      <td>1</td>\n",
              "    </tr>\n",
              "    <tr>\n",
              "      <th>1</th>\n",
              "      <td>18</td>\n",
              "      <td>33.770</td>\n",
              "      <td>1</td>\n",
              "      <td>1725.55230</td>\n",
              "      <td>1</td>\n",
              "      <td>0</td>\n",
              "      <td>0</td>\n",
              "      <td>1</td>\n",
              "      <td>0</td>\n",
              "    </tr>\n",
              "    <tr>\n",
              "      <th>2</th>\n",
              "      <td>28</td>\n",
              "      <td>33.000</td>\n",
              "      <td>3</td>\n",
              "      <td>4449.46200</td>\n",
              "      <td>1</td>\n",
              "      <td>0</td>\n",
              "      <td>0</td>\n",
              "      <td>1</td>\n",
              "      <td>0</td>\n",
              "    </tr>\n",
              "    <tr>\n",
              "      <th>3</th>\n",
              "      <td>33</td>\n",
              "      <td>22.705</td>\n",
              "      <td>0</td>\n",
              "      <td>21984.47061</td>\n",
              "      <td>1</td>\n",
              "      <td>0</td>\n",
              "      <td>1</td>\n",
              "      <td>0</td>\n",
              "      <td>0</td>\n",
              "    </tr>\n",
              "    <tr>\n",
              "      <th>4</th>\n",
              "      <td>32</td>\n",
              "      <td>28.880</td>\n",
              "      <td>0</td>\n",
              "      <td>3866.85520</td>\n",
              "      <td>1</td>\n",
              "      <td>0</td>\n",
              "      <td>1</td>\n",
              "      <td>0</td>\n",
              "      <td>0</td>\n",
              "    </tr>\n",
              "    <tr>\n",
              "      <th>5</th>\n",
              "      <td>31</td>\n",
              "      <td>25.740</td>\n",
              "      <td>0</td>\n",
              "      <td>3756.62160</td>\n",
              "      <td>0</td>\n",
              "      <td>0</td>\n",
              "      <td>0</td>\n",
              "      <td>1</td>\n",
              "      <td>0</td>\n",
              "    </tr>\n",
              "    <tr>\n",
              "      <th>6</th>\n",
              "      <td>46</td>\n",
              "      <td>33.440</td>\n",
              "      <td>1</td>\n",
              "      <td>8240.58960</td>\n",
              "      <td>0</td>\n",
              "      <td>0</td>\n",
              "      <td>0</td>\n",
              "      <td>1</td>\n",
              "      <td>0</td>\n",
              "    </tr>\n",
              "    <tr>\n",
              "      <th>7</th>\n",
              "      <td>37</td>\n",
              "      <td>27.740</td>\n",
              "      <td>3</td>\n",
              "      <td>7281.50560</td>\n",
              "      <td>0</td>\n",
              "      <td>0</td>\n",
              "      <td>1</td>\n",
              "      <td>0</td>\n",
              "      <td>0</td>\n",
              "    </tr>\n",
              "    <tr>\n",
              "      <th>8</th>\n",
              "      <td>37</td>\n",
              "      <td>29.830</td>\n",
              "      <td>2</td>\n",
              "      <td>6406.41070</td>\n",
              "      <td>1</td>\n",
              "      <td>0</td>\n",
              "      <td>0</td>\n",
              "      <td>0</td>\n",
              "      <td>0</td>\n",
              "    </tr>\n",
              "    <tr>\n",
              "      <th>9</th>\n",
              "      <td>60</td>\n",
              "      <td>25.840</td>\n",
              "      <td>0</td>\n",
              "      <td>28923.13692</td>\n",
              "      <td>0</td>\n",
              "      <td>0</td>\n",
              "      <td>1</td>\n",
              "      <td>0</td>\n",
              "      <td>0</td>\n",
              "    </tr>\n",
              "  </tbody>\n",
              "</table>\n",
              "</div>"
            ],
            "text/plain": [
              "   age     bmi  children  ...  region_northwest  region_southeast  region_southwest\n",
              "0   19  27.900         0  ...                 0                 0                 1\n",
              "1   18  33.770         1  ...                 0                 1                 0\n",
              "2   28  33.000         3  ...                 0                 1                 0\n",
              "3   33  22.705         0  ...                 1                 0                 0\n",
              "4   32  28.880         0  ...                 1                 0                 0\n",
              "5   31  25.740         0  ...                 0                 1                 0\n",
              "6   46  33.440         1  ...                 0                 1                 0\n",
              "7   37  27.740         3  ...                 1                 0                 0\n",
              "8   37  29.830         2  ...                 0                 0                 0\n",
              "9   60  25.840         0  ...                 1                 0                 0\n",
              "\n",
              "[10 rows x 9 columns]"
            ]
          },
          "metadata": {},
          "execution_count": 26
        }
      ]
    },
    {
      "cell_type": "markdown",
      "metadata": {
        "id": "k1tD27XX9dr_"
      },
      "source": [
        "Load the features into 'x' and the targets into 'y'."
      ]
    },
    {
      "cell_type": "code",
      "metadata": {
        "id": "Tcj994aF9dr_"
      },
      "source": [
        "x = df.drop(['charges'], axis=1) #testing dataset\n",
        "y = df.charges #class label dataset"
      ],
      "execution_count": 30,
      "outputs": []
    },
    {
      "cell_type": "markdown",
      "metadata": {
        "id": "k-TohWW49dr_"
      },
      "source": [
        "Split the dataset into training set and test set with ratio 7:3"
      ]
    },
    {
      "cell_type": "code",
      "metadata": {
        "id": "3KfP3t--9dsA"
      },
      "source": [
        "# TODO: Replace {} with your solution to split the dataset into 70% training set and 30% test set\n",
        "x_train, x_test, y_train, y_test = train_test_split(x, y, test_size=0.3, random_state=123)"
      ],
      "execution_count": 32,
      "outputs": []
    },
    {
      "cell_type": "markdown",
      "metadata": {
        "id": "S3aIN9tU9dsA"
      },
      "source": [
        "## 2 - Linear Regression"
      ]
    },
    {
      "cell_type": "code",
      "metadata": {
        "colab": {
          "base_uri": "https://localhost:8080/"
        },
        "id": "SDiY6vKo9dsA",
        "outputId": "fe19a2ad-1c4e-43c9-a362-14f5db76cb24"
      },
      "source": [
        "# TODO: Replace {} with your solution to load the linear regression model\n",
        "model = LinearRegression()\n",
        "\n",
        "# TODO: Replace {} with your solution to fit the training data into model\n",
        "model.fit(x_train, y_train)"
      ],
      "execution_count": 37,
      "outputs": [
        {
          "output_type": "execute_result",
          "data": {
            "text/plain": [
              "LinearRegression(copy_X=True, fit_intercept=True, n_jobs=None, normalize=False)"
            ]
          },
          "metadata": {},
          "execution_count": 37
        }
      ]
    },
    {
      "cell_type": "markdown",
      "metadata": {
        "id": "sYl58_OK9dsB"
      },
      "source": [
        "Print the model's coefficients.\n",
        "- A positive coefficient means as the value of the independent variable increases, the dependent variable also tends to increase. \n",
        "- A negative coefficient means as the value of the independent variable increases, the dependent variable tends to decrease."
      ]
    },
    {
      "cell_type": "code",
      "metadata": {
        "colab": {
          "base_uri": "https://localhost:8080/"
        },
        "id": "ad8ayiwP9dsB",
        "outputId": "a95fe270-90ba-4227-da83-1d98549298b2"
      },
      "source": [
        "for i in range(len(x.columns)):\n",
        "    print(x.columns[i], model.coef_[i])"
      ],
      "execution_count": 38,
      "outputs": [
        {
          "output_type": "stream",
          "name": "stdout",
          "text": [
            "age 257.622725865223\n",
            "bmi 348.4255104731627\n",
            "children 477.3419010909885\n",
            "sex_male -93.42829510380176\n",
            "smoker_yes 23723.599543558314\n",
            "region_northwest -561.1875761821836\n",
            "region_southeast -1068.6186857453793\n",
            "region_southwest -1126.0510592352555\n"
          ]
        }
      ]
    },
    {
      "cell_type": "markdown",
      "metadata": {
        "id": "DMMlq---9dsC"
      },
      "source": [
        "Model's coefficients analysis:\n",
        "- 'smoker_yes' has very high positive coefficient, which means that if the patient is smoker, then the cost charges on the patient will increase.\n",
        "- 'sex_male' has negative coefficient, which means that if the patient is male, then the cost charges on the patient will decrease."
      ]
    },
    {
      "cell_type": "markdown",
      "metadata": {
        "id": "dASo5NqY9dsC"
      },
      "source": [
        "Print the intercept."
      ]
    },
    {
      "cell_type": "code",
      "metadata": {
        "colab": {
          "base_uri": "https://localhost:8080/"
        },
        "id": "yVj_t_f09dsC",
        "outputId": "28e55a06-fad2-4da6-8e41-a56142af3e61"
      },
      "source": [
        "# TODO: Replace {} with your solution to print the intercept\n",
        "print(model.intercept_)"
      ],
      "execution_count": 39,
      "outputs": [
        {
          "output_type": "stream",
          "name": "stdout",
          "text": [
            "-11977.343587388666\n"
          ]
        }
      ]
    },
    {
      "cell_type": "markdown",
      "metadata": {
        "id": "bpzw64tQ9dsC"
      },
      "source": [
        "## 3 - Evaluate Model"
      ]
    },
    {
      "cell_type": "code",
      "metadata": {
        "id": "YM9BIYx89dsC"
      },
      "source": [
        "# # TODO: Replace {} with your solution to make prediction with test set\n",
        "predictions = model.predict(x_test)"
      ],
      "execution_count": 42,
      "outputs": []
    },
    {
      "cell_type": "markdown",
      "metadata": {
        "id": "Z1uP00199dsD"
      },
      "source": [
        "Plot the results."
      ]
    },
    {
      "cell_type": "code",
      "metadata": {
        "colab": {
          "base_uri": "https://localhost:8080/",
          "height": 296
        },
        "id": "k2KpvvSI9dsD",
        "outputId": "90934246-b1f4-43d8-c2f9-2bcafa6afb47"
      },
      "source": [
        "plt.scatter(y_test, predictions)\n",
        "plt.xlabel('Y Test')\n",
        "plt.ylabel('Predicted Y')"
      ],
      "execution_count": 43,
      "outputs": [
        {
          "output_type": "execute_result",
          "data": {
            "text/plain": [
              "Text(0, 0.5, 'Predicted Y')"
            ]
          },
          "metadata": {},
          "execution_count": 43
        },
        {
          "output_type": "display_data",
          "data": {
            "image/png": "[encoded data removed]",
            "text/plain": [
              "<Figure size 432x288 with 1 Axes>"
            ]
          },
          "metadata": {
            "needs_background": "light"
          }
        }
      ]
    },
    {
      "cell_type": "markdown",
      "metadata": {
        "id": "PfDj-_sM9dsD"
      },
      "source": [
        "Print the model's score."
      ]
    },
    {
      "cell_type": "code",
      "metadata": {
        "colab": {
          "base_uri": "https://localhost:8080/"
        },
        "id": "f5XINnj79dsD",
        "outputId": "8a205d5f-d1a7-49f2-dec9-62e5a2954ee3"
      },
      "source": [
        "print(model.score(x_test, y_test))"
      ],
      "execution_count": 44,
      "outputs": [
        {
          "output_type": "stream",
          "name": "stdout",
          "text": [
            "0.7627582187528819\n"
          ]
        }
      ]
    },
    {
      "cell_type": "markdown",
      "metadata": {
        "id": "Ig4nhIlb9dsD"
      },
      "source": [
        "Print the MAE, MSE, RMSE of the model."
      ]
    },
    {
      "cell_type": "code",
      "metadata": {
        "colab": {
          "base_uri": "https://localhost:8080/"
        },
        "id": "JO7lmhsy9dsD",
        "outputId": "be78de2d-3728-4e72-a193-fff9765302e8"
      },
      "source": [
        "# TODO: Replace {} with your solution to print out MAE\n",
        "print('MAE:', metrics.mean_absolute_error(y_test, predictions))\n",
        "\n",
        "# TODO: Replace {} with your solution to print out MSE\n",
        "print('MSE:', metrics.mean_squared_error(y_test, predictions))\n",
        "\n",
        "# TODO: Replace {} with your solution to print out RMSE\n",
        "print('RMSE:', np.sqrt(metrics.mean_squared_error(y_test, predictions)))"
      ],
      "execution_count": 47,
      "outputs": [
        {
          "output_type": "stream",
          "name": "stdout",
          "text": [
            "MAE: 4196.201114655029\n",
            "MSE: 33892347.11869649\n",
            "RMSE: 5821.713417774572\n"
          ]
        }
      ]
    },
    {
      "cell_type": "markdown",
      "metadata": {
        "id": "zCcaQiN39dsE"
      },
      "source": [
        "- MAE is less biased for higher values and may not adequately reflect the performance when dealing with larger error values. MAE also does not necessarily penalize large errors.\n",
        "- MSE is higly biased for higher values and it penalize large errors.\n",
        "- RMSE works better in reflecting performance when dealing with larger error values. RMSE also penalize large errors.\n",
        "\n",
        "In this case, RMSE is better to be the evaluation metric for the error analysis."
      ]
    }
  ]
}